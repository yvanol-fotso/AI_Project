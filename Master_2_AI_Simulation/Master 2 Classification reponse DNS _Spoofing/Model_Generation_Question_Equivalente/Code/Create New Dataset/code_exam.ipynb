{
 "cells": [
  {
   "cell_type": "code",
   "execution_count": 1,
   "metadata": {},
   "outputs": [
    {
     "name": "stdout",
     "output_type": "stream",
     "text": [
      "{'question': \"Quel est l'algorithme de tri le plus rapide ?\", 'options': ['Tri par insertion', 'Tri fusion', 'Tri rapide', 'Tri Ã\\xa0 bulles'], 'answer': 'Tri rapide', 'difficulte': 1, 'duree_reponse': '4 minute(s)', 'marks': 1}\n",
      "{'question': 'Quelle est la complexitÃ© temporelle du tri fusion ?', 'options': ['O(n log n)', 'O(n^2)', 'O(n)', 'O(log n)'], 'answer': 'O(n log n)', 'difficulte': 3, 'duree_reponse': '4 minute(s)', 'marks': 2}\n",
      "{'question': \"Quel est l'algorithme de recherche le plus efficace ?\", 'options': ['Recherche sÃ©quentielle', 'Recherche binaire', 'Recherche exponentielle', 'Recherche linÃ©aire'], 'answer': 'Recherche binaire', 'difficulte': 1, 'duree_reponse': '5 minute(s)', 'marks': 1}\n"
     ]
    }
   ],
   "source": [
    "import json\n",
    "\n",
    "# Charger le dataset\n",
    "with open('data_modified_final.json', 'r') as f:\n",
    "    data = json.load(f)\n",
    "\n",
    "# Afficher quelques exemples pour vérifier\n",
    "for question in data['questions'][:3]:\n",
    "    print(question)\n"
   ]
  },
  {
   "cell_type": "code",
   "execution_count": 2,
   "metadata": {},
   "outputs": [
    {
     "name": "stdout",
     "output_type": "stream",
     "text": [
      "[[0 0 0 0 0 0 1 0 0 0 0 0 0 0 0 0 0 0 0 0 0 0 0 0 0 0 0 0 0 0 0 0 0 0 0 0\n",
      "  0 0 0 0 1 0 0 0 0 0 0 0 0 0 0 0 0 0 1 0 0 0 0 0 0 0 0 0 0 0 0 0 0 0 0 0\n",
      "  0 0 0 1 0 0 0 0 0 0 0 0 0 0 0 0 0 0 0 0 0 0 0 0 0 1 0 0 0 0 0 0 0 0 0 0\n",
      "  1 0 0 0 1 0 0 0 0 0 0 0 0 0 0 0 0 0 0 0 0 0 0 0 0 0 0 1 0 0 0 0 0 0 0 0\n",
      "  0 0 0 0 0 0 0]\n",
      " [0 0 0 0 0 0 0 0 0 0 0 0 0 0 0 0 0 0 0 0 0 0 0 0 0 0 0 0 0 0 1 0 0 0 0 0\n",
      "  0 0 0 0 0 0 0 0 0 1 0 0 0 0 0 0 0 0 1 0 0 0 0 0 1 0 0 0 0 0 0 0 0 0 0 0\n",
      "  0 1 0 0 0 0 0 0 0 0 0 0 0 0 0 0 0 0 0 0 0 0 0 0 0 0 0 0 0 0 0 0 0 0 0 0\n",
      "  0 1 0 0 0 0 0 0 0 0 0 0 0 0 0 0 0 0 0 0 0 0 0 0 1 0 0 1 0 0 0 0 0 0 0 0\n",
      "  0 0 0 0 0 0 0]\n",
      " [0 0 0 0 0 0 1 0 0 0 0 0 0 0 0 0 0 0 0 0 0 0 0 0 0 0 0 0 0 0 0 0 0 0 0 0\n",
      "  0 0 0 0 1 0 0 0 0 0 0 0 0 1 0 0 0 0 1 0 0 0 0 0 0 0 0 0 0 0 0 0 0 0 0 0\n",
      "  0 0 0 1 0 0 0 0 0 0 0 0 0 0 0 0 0 0 0 0 0 0 0 0 0 1 0 0 0 0 0 0 0 0 0 0\n",
      "  1 0 0 0 0 0 1 0 0 0 0 0 0 0 0 0 0 0 0 0 0 0 0 0 0 0 0 0 0 0 0 0 0 0 0 0\n",
      "  0 0 0 0 0 0 0]]\n",
      "[0 2 0]\n"
     ]
    }
   ],
   "source": [
    "from sklearn.preprocessing import LabelEncoder\n",
    "from sklearn.feature_extraction.text import CountVectorizer\n",
    "\n",
    "# Extraire les questions et les réponses\n",
    "questions = [q['question'] for q in data['questions']]\n",
    "options = [q['options'] for q in data['questions']]\n",
    "answers = [q['answer'] for q in data['questions']]\n",
    "difficulties = [q['difficulte'] for q in data['questions']]\n",
    "durations = [q['duree_reponse'] for q in data['questions']]\n",
    "marks = [q['marks'] for q in data['questions']]\n",
    "\n",
    "# Encoder les textes\n",
    "vectorizer = CountVectorizer()\n",
    "X_questions = vectorizer.fit_transform(questions).toarray()\n",
    "\n",
    "# Encoder les labels de difficulté\n",
    "le_difficulty = LabelEncoder()\n",
    "y_difficulties = le_difficulty.fit_transform(difficulties)\n",
    "\n",
    "# Afficher quelques exemples encodés pour vérifier\n",
    "print(X_questions[:3])\n",
    "print(y_difficulties[:3])\n"
   ]
  },
  {
   "cell_type": "code",
   "execution_count": 3,
   "metadata": {},
   "outputs": [
    {
     "name": "stdout",
     "output_type": "stream",
     "text": [
      "Model: \"sequential\"\n",
      "_________________________________________________________________\n",
      " Layer (type)                Output Shape              Param #   \n",
      "=================================================================\n",
      " dense (Dense)               (None, 128)               19456     \n",
      "                                                                 \n",
      " dense_1 (Dense)             (None, 64)                8256      \n",
      "                                                                 \n",
      " dense_2 (Dense)             (None, 1)                 65        \n",
      "                                                                 \n",
      "=================================================================\n",
      "Total params: 27,777\n",
      "Trainable params: 27,777\n",
      "Non-trainable params: 0\n",
      "_________________________________________________________________\n"
     ]
    }
   ],
   "source": [
    "from tensorflow.keras.models import Sequential\n",
    "from tensorflow.keras.layers import Dense\n",
    "\n",
    "# Définir le modèle\n",
    "model = Sequential([\n",
    "    Dense(128, input_dim=X_questions.shape[1], activation='relu'),\n",
    "    Dense(64, activation='relu'),\n",
    "    Dense(1, activation='linear')  # Prédiction de la difficulté\n",
    "])\n",
    "\n",
    "# Compiler le modèle\n",
    "model.compile(optimizer='adam', loss='mean_squared_error', metrics=['accuracy'])\n",
    "\n",
    "# Afficher le résumé du modèle\n",
    "model.summary()\n"
   ]
  },
  {
   "cell_type": "code",
   "execution_count": 4,
   "metadata": {},
   "outputs": [
    {
     "name": "stdout",
     "output_type": "stream",
     "text": [
      "Epoch 1/10\n",
      "1/1 [==============================] - 4s 4s/step - loss: 1.7045 - accuracy: 0.3793 - val_loss: 2.1876 - val_accuracy: 0.2500\n",
      "Epoch 2/10\n",
      "1/1 [==============================] - 0s 140ms/step - loss: 1.4292 - accuracy: 0.3793 - val_loss: 1.9324 - val_accuracy: 0.2500\n",
      "Epoch 3/10\n",
      "1/1 [==============================] - 0s 84ms/step - loss: 1.2069 - accuracy: 0.4138 - val_loss: 1.7201 - val_accuracy: 0.1250\n",
      "Epoch 4/10\n",
      "1/1 [==============================] - 0s 59ms/step - loss: 1.0242 - accuracy: 0.4138 - val_loss: 1.5476 - val_accuracy: 0.1250\n",
      "Epoch 5/10\n",
      "1/1 [==============================] - 0s 53ms/step - loss: 0.8759 - accuracy: 0.4828 - val_loss: 1.4024 - val_accuracy: 0.3750\n",
      "Epoch 6/10\n",
      "1/1 [==============================] - 0s 56ms/step - loss: 0.7561 - accuracy: 0.5517 - val_loss: 1.2835 - val_accuracy: 0.3750\n",
      "Epoch 7/10\n",
      "1/1 [==============================] - 0s 50ms/step - loss: 0.6630 - accuracy: 0.4828 - val_loss: 1.1896 - val_accuracy: 0.3750\n",
      "Epoch 8/10\n",
      "1/1 [==============================] - 0s 52ms/step - loss: 0.5910 - accuracy: 0.4483 - val_loss: 1.1165 - val_accuracy: 0.2500\n",
      "Epoch 9/10\n",
      "1/1 [==============================] - 0s 49ms/step - loss: 0.5349 - accuracy: 0.4138 - val_loss: 1.0600 - val_accuracy: 0.2500\n",
      "Epoch 10/10\n",
      "1/1 [==============================] - 0s 55ms/step - loss: 0.4916 - accuracy: 0.3793 - val_loss: 1.0177 - val_accuracy: 0.2500\n"
     ]
    },
    {
     "data": {
      "text/plain": [
       "<keras.callbacks.History at 0x19858d2e410>"
      ]
     },
     "execution_count": 4,
     "metadata": {},
     "output_type": "execute_result"
    }
   ],
   "source": [
    "# Entraîner le modèle\n",
    "model.fit(X_questions, y_difficulties, epochs=10, batch_size=32, validation_split=0.2)\n"
   ]
  },
  {
   "cell_type": "code",
   "execution_count": 5,
   "metadata": {},
   "outputs": [
    {
     "name": "stdout",
     "output_type": "stream",
     "text": [
      "1/1 [==============================] - 0s 396ms/step\n",
      "1/1 [==============================] - 0s 23ms/step\n",
      "1/1 [==============================] - 0s 30ms/step\n",
      "1/1 [==============================] - 0s 24ms/step\n",
      "1/1 [==============================] - 0s 47ms/step\n",
      "1/1 [==============================] - 0s 43ms/step\n",
      "1/1 [==============================] - 0s 29ms/step\n",
      "1/1 [==============================] - 0s 29ms/step\n",
      "1/1 [==============================] - 0s 32ms/step\n",
      "1/1 [==============================] - 0s 31ms/step\n",
      "1/1 [==============================] - 0s 26ms/step\n",
      "1/1 [==============================] - 0s 35ms/step\n",
      "1/1 [==============================] - 0s 32ms/step\n",
      "1/1 [==============================] - 0s 36ms/step\n",
      "1/1 [==============================] - 0s 42ms/step\n",
      "1/1 [==============================] - 0s 50ms/step\n",
      "1/1 [==============================] - 0s 48ms/step\n",
      "1/1 [==============================] - 0s 49ms/step\n",
      "1/1 [==============================] - 0s 31ms/step\n",
      "1/1 [==============================] - 0s 33ms/step\n",
      "1/1 [==============================] - 0s 32ms/step\n",
      "1/1 [==============================] - 0s 27ms/step\n",
      "1/1 [==============================] - 0s 36ms/step\n",
      "1/1 [==============================] - 0s 34ms/step\n",
      "1/1 [==============================] - 0s 30ms/step\n",
      "1/1 [==============================] - 0s 61ms/step\n",
      "1/1 [==============================] - 0s 29ms/step\n",
      "1/1 [==============================] - 0s 32ms/step\n",
      "1/1 [==============================] - 0s 43ms/step\n",
      "1/1 [==============================] - 0s 37ms/step\n",
      "1/1 [==============================] - 0s 35ms/step\n",
      "1/1 [==============================] - 0s 32ms/step\n",
      "1/1 [==============================] - 0s 27ms/step\n",
      "1/1 [==============================] - 0s 28ms/step\n",
      "1/1 [==============================] - 0s 31ms/step\n",
      "1/1 [==============================] - 0s 22ms/step\n",
      "1/1 [==============================] - 0s 26ms/step\n",
      "1/1 [==============================] - 0s 22ms/step\n",
      "1/1 [==============================] - 0s 24ms/step\n",
      "[\"RÃ©pÃ©ter <traitement> jusqu'a <condition> est une ______?\", \"Quelle est la complexitÃ© temporelle de l'algorithme de Floyd-Warshall ?\", \"Quelle est la complexitÃ© temporelle de l'algorithme de Kruskal ?\", \"Quel est l'algorithme utilisÃ© pour effectuer une recherche en largeur dans un graphe ?\", \"Quelle est la complexitÃ© temporelle de l'algorithme de recherche linÃ©aire ?\", 'Quelle est la diffÃ©rence entre un organigramme et un pseudocode?', \"Comment mesure-t-on la complexitÃ© temporelle d'un algorithme ?\", 'Si ....... Alors ....... Sinon ....... Fin Si vÃ©rifier ____?', \"Comment mesure-t-on la complexitÃ© temporelle d'un algorithme ?\"]\n",
      "[\"Quel est l'algorithme utilisÃ© pour effectuer une recherche en largeur dans un graphe ?\", \"Combien de comparaisons effectuera l'algorithme de tri Ã\\xa0 bulles si on l'applique Ã\\xa0 un tableau de 20 Ã©lÃ©ments dÃ©jÃ\\xa0 triÃ© ?\", \"L'arbre de Huffman attribue :\", 'Quelle est la diffÃ©rence entre un organigramme et un pseudocode?', \"Quel est l'algorithme de recherche le plus efficace ?\", \"Combien de comparaisons effectuera l'algorithme de tri Ã\\xa0 bulles si on l'applique Ã\\xa0 un tableau de 20 Ã©lÃ©ments dÃ©jÃ\\xa0 triÃ© ?\", \"Que devient la chaÃ®ne de caractÃ¨res JJJJJJJJKKKKLL si on la compresse par l'algorithme RLE ?\", 'Un fichier de volume initial Vi est compressÃ© grÃ¢ce au codage de Huffman. AprÃ¨s compression le fichier occupe un volume final Vf. Combien vaut alors le gain ?', 'Quelle est la complexitÃ© temporelle de la recherche sÃ©quentielle ?', 'Quelle est la complexitÃ© temporelle du tri fusion ?']\n",
      "[\"Quelles sont les trois constructions d'algorithme?\", 'Quelle est la complexitÃ© temporelle de la recherche binaire ?', \"L'algorithme RLE est :\", \"Quel est l'algorithme de recherche le plus efficace ?\", \"Quel est l'algorithme de tri adaptÃ© aux listes de petite taille ?\", \"Combien de comparaisons effectuera l'algorithme de tri Ã\\xa0 bulles si on l'applique Ã\\xa0 un tableau de 20 Ã©lÃ©ments dÃ©jÃ\\xa0 triÃ© ?\", \"Quel est l'algorithme de tri adaptÃ© aux listes de petite taille ?\", \"L'arbre de Huffman attribue :\", \"Quelle est la complexitÃ© temporelle de l'algorithme de Floyd-Warshall ?\"]\n",
      "[\"Quel est l'algorithme utilisÃ© pour effectuer une recherche en profondeur dans un graphe ?\", \"Quel est l'algorithme utilisÃ© pour trouver le plus court chemin dans un graphe pondÃ©rÃ© ?\", \"RÃ©pÃ©ter <traitement> jusqu'a <condition> est une ______?\", \"Que devient la chaÃ®ne de caractÃ¨res JJJJJJJJKKKKLL si on la compresse par l'algorithme RLE ?\", \"Dans un organigramme, une instruction d'entrÃ©e ou de sortie est reprÃ©sentÃ©e par _____?\", \"Comment mesure-t-on la complexitÃ© temporelle d'un algorithme ?\", 'Quelle est la complexitÃ© temporelle de la recherche sÃ©quentielle ?', \"Quel est l'avantage du tri Ã\\xa0 bulles par rapport au tri par insertion ?\", \"Quelle est la complexitÃ© spatiale de l'algorithme de tri rapide ?\", \"Comment mesure-t-on la complexitÃ© temporelle d'un algorithme ?\", 'Quelle est la complexitÃ© temporelle du tri fusion ?']\n"
     ]
    }
   ],
   "source": [
    "import numpy as np\n",
    "\n",
    "def generate_exam(model, vectorizer, params):\n",
    "    \"\"\"\n",
    "    Génère des sujets d'examen équivalents basés sur les paramètres fournis.\n",
    "    \"\"\"\n",
    "    generated_exams = []\n",
    "    total_points = params['total_points']\n",
    "    total_duration = params['total_duration']\n",
    "    easy_percentage = params['easy_percentage']\n",
    "    medium_percentage = params['medium_percentage']\n",
    "    hard_percentage = params['hard_percentage']\n",
    "\n",
    "    # Génération de sujets\n",
    "    for _ in range(4):  # Générer 4 sujets\n",
    "        subject = []\n",
    "        current_points = 0\n",
    "        current_duration = 0\n",
    "        easy_questions = []\n",
    "        medium_questions = []\n",
    "        hard_questions = []\n",
    "\n",
    "        while current_points < total_points and current_duration < total_duration:\n",
    "            # Sélectionner une question aléatoire\n",
    "            idx = np.random.choice(len(questions))\n",
    "            question = questions[idx]\n",
    "            encoded_question = vectorizer.transform([question]).toarray()\n",
    "            difficulty = model.predict(encoded_question)\n",
    "\n",
    "            if difficulty == 1 and len(easy_questions) < (easy_percentage * total_points):\n",
    "                easy_questions.append(question)\n",
    "            elif difficulty == 2 and len(medium_questions) < (medium_percentage * total_points):\n",
    "                medium_questions.append(question)\n",
    "            elif difficulty == 3 and len(hard_questions) < (hard_percentage * total_points):\n",
    "                hard_questions.append(question)\n",
    "            \n",
    "            subject.append(question)\n",
    "            current_points += marks[idx]\n",
    "            current_duration += int(durations[idx].split()[0])  # Convertir la durée en minutes\n",
    "\n",
    "        generated_exams.append(subject)\n",
    "    \n",
    "    return generated_exams\n",
    "\n",
    "# Paramètres de l'examen\n",
    "params = {\n",
    "    'total_points': 20,\n",
    "    'total_duration': 45,\n",
    "    'easy_percentage': 0.3,\n",
    "    'medium_percentage': 0.5,\n",
    "    'hard_percentage': 0.2\n",
    "}\n",
    "\n",
    "# Générer les examens\n",
    "exams = generate_exam(model, vectorizer, params)\n",
    "for exam in exams:\n",
    "    print(exam)\n"
   ]
  }
 ],
 "metadata": {
  "kernelspec": {
   "display_name": "Python 3",
   "language": "python",
   "name": "python3"
  },
  "language_info": {
   "codemirror_mode": {
    "name": "ipython",
    "version": 3
   },
   "file_extension": ".py",
   "mimetype": "text/x-python",
   "name": "python",
   "nbconvert_exporter": "python",
   "pygments_lexer": "ipython3",
   "version": "3.10.0"
  }
 },
 "nbformat": 4,
 "nbformat_minor": 2
}
