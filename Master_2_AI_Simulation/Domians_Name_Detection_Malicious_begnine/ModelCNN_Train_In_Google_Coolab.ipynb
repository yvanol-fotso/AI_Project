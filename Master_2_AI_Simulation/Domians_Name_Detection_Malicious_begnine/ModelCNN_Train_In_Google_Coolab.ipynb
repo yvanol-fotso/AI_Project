{
  "cells": [
    {
      "cell_type": "code",
      "execution_count": 87,
      "metadata": {
        "id": "KhPcMsAjEVfq"
      },
      "outputs": [],
      "source": [
        "import pandas as pd\n",
        "\n",
        "# Chargement du jeu de données\n",
        "data = pd.read_csv(\"BenignAndMaliciousDataset.csv\")\n"
      ]
    },
    {
      "cell_type": "code",
      "execution_count": 85,
      "metadata": {
        "id": "zoqAe4ILa-LE"
      },
      "outputs": [],
      "source": [
        "data = pd.read_csv(\"BenignAndMaliciousDataset.csv\", dtype={'TLD': str, 'IpReputation': str})"
      ]
    },
    {
      "cell_type": "code",
      "execution_count": null,
      "metadata": {
        "id": "Yler9jqpdCvr"
      },
      "outputs": [],
      "source": [
        "!find / -name \"BenignAndMaliciousDataset.csv\""
      ]
    },
    {
      "cell_type": "code",
      "execution_count": null,
      "metadata": {
        "id": "gfB5QtQ3aer-"
      },
      "outputs": [],
      "source": [
        "import os\n",
        "\n",
        "# Afficher le contenu du répertoire actuel\n",
        "print(os.listdir())"
      ]
    },
    {
      "cell_type": "code",
      "execution_count": null,
      "metadata": {
        "id": "1HP2N4qGcPR4"
      },
      "outputs": [],
      "source": [
        "import os\n",
        "\n",
        "# Parcourir les répertoires et sous-répertoires\n",
        "for root, dirs, files in os.walk('.'):\n",
        "    for file in files:\n",
        "        if file.endswith('.csv'):  # Modifier l'extension selon le format de votre dataset\n",
        "            print(os.path.join(root, file))"
      ]
    },
    {
      "cell_type": "code",
      "execution_count": 86,
      "metadata": {
        "id": "rKgyXF-GXmSG"
      },
      "outputs": [],
      "source": [
        "# Séparation des fonctionnalités et de la cible\n",
        "X = data[['DNSRecordType', 'NumericSequence', 'NumericRatio', 'StrangeCharacters', 'ConsoantRatio', 'VowelRatio']]\n",
        "y = data['Class']\n"
      ]
    },
    {
      "cell_type": "code",
      "execution_count": 88,
      "metadata": {
        "id": "9Q-2JwZ-XnXg"
      },
      "outputs": [],
      "source": [
        "from tensorflow.keras.layers.experimental.preprocessing import TextVectorization\n",
        "from tensorflow.keras.models import Sequential\n",
        "from tensorflow.keras import layers\n",
        "\n",
        "from sklearn.preprocessing import MinMaxScaler\n",
        "import numpy as np\n",
        "\n",
        "from tensorflow.keras.layers.experimental.preprocessing import StringLookup"
      ]
    },
    {
      "cell_type": "code",
      "execution_count": 89,
      "metadata": {
        "colab": {
          "base_uri": "https://localhost:8080/"
        },
        "id": "KqoBTDQNYoCN",
        "outputId": "57bbaea1-f2f4-4b06-f86e-9d36b3522d1b"
      },
      "outputs": [
        {
          "name": "stdout",
          "output_type": "stream",
          "text": [
            "0        A\n",
            "1        A\n",
            "2        A\n",
            "3        A\n",
            "4        A\n",
            "        ..\n",
            "89995    A\n",
            "89996    A\n",
            "89997    A\n",
            "89998    A\n",
            "89999    A\n",
            "Name: DNSRecordType, Length: 90000, dtype: object\n"
          ]
        }
      ],
      "source": [
        "#Avant l'encodage de l'attribut categroriciel\n",
        "\n",
        "categorical_feature = X['DNSRecordType']\n",
        "\n",
        "print(categorical_feature)\n"
      ]
    },
    {
      "cell_type": "code",
      "execution_count": 90,
      "metadata": {
        "id": "sveEJ6RpYrER"
      },
      "outputs": [],
      "source": [
        "\n",
        "# Définition de la taille du vocabulaire\n",
        "vocab_size = 10000\n",
        "\n",
        "# Création de la couche TextVectorization pour l'encodage des fonctionnalités textuelles\n",
        "vectorize_layer = TextVectorization(\n",
        "    max_tokens=vocab_size,\n",
        "    output_mode='int',\n",
        "    output_sequence_length=100)  # Taille fixe pour chaque séquence de fonctionnalités textuelles\n",
        "\n",
        "# Adaptation de la couche TextVectorization aux données textuelles\n",
        "dns_data = X['DNSRecordType'].astype(str)\n",
        "\n",
        "\n",
        "vectorize_layer.adapt(dns_data)\n"
      ]
    },
    {
      "cell_type": "code",
      "execution_count": 91,
      "metadata": {
        "id": "7zRlo2JWYuqE"
      },
      "outputs": [],
      "source": [
        "# Données encodées et prétraitées\n",
        "encoded_dns_data = np.array(vectorize_layer(dns_data))\n"
      ]
    },
    {
      "cell_type": "code",
      "execution_count": 92,
      "metadata": {
        "colab": {
          "base_uri": "https://localhost:8080/"
        },
        "id": "sJdXQP8UY07f",
        "outputId": "cec6e8c1-9961-4395-ff25-d38c860c7a2d"
      },
      "outputs": [
        {
          "name": "stdout",
          "output_type": "stream",
          "text": [
            "[[2 0 0 ... 0 0 0]\n",
            " [2 0 0 ... 0 0 0]\n",
            " [2 0 0 ... 0 0 0]\n",
            " ...\n",
            " [2 0 0 ... 0 0 0]\n",
            " [2 0 0 ... 0 0 0]\n",
            " [2 0 0 ... 0 0 0]]\n"
          ]
        }
      ],
      "source": [
        "#affichage de l'attribut apres vectorisation\n",
        "\n",
        "print (encoded_dns_data)"
      ]
    },
    {
      "cell_type": "code",
      "execution_count": 93,
      "metadata": {
        "colab": {
          "base_uri": "https://localhost:8080/"
        },
        "id": "H1xuRLyBY3qq",
        "outputId": "35f01cf0-60ab-4d90-cb5e-bfd266a5e3c8"
      },
      "outputs": [
        {
          "name": "stdout",
          "output_type": "stream",
          "text": [
            "       NumericSequence  NumericRatio  StrangeCharacters  ConsoantRatio  \\\n",
            "0                    1           0.1                 11            0.6   \n",
            "1                    2           0.1                 11            0.7   \n",
            "2                    3           0.2                 24            0.6   \n",
            "3                    2           0.1                 15            0.6   \n",
            "4                    2           0.2                 23            0.6   \n",
            "...                ...           ...                ...            ...   \n",
            "89995                2           0.2                  3            0.5   \n",
            "89996                0           0.0                  0            0.6   \n",
            "89997                2           0.1                  1            0.5   \n",
            "89998                0           0.0                  0            0.5   \n",
            "89999                0           0.0                  1            0.6   \n",
            "\n",
            "       VowelRatio  \n",
            "0             0.2  \n",
            "1             0.2  \n",
            "2             0.2  \n",
            "3             0.1  \n",
            "4             0.1  \n",
            "...           ...  \n",
            "89995         0.2  \n",
            "89996         0.4  \n",
            "89997         0.4  \n",
            "89998         0.4  \n",
            "89999         0.3  \n",
            "\n",
            "[90000 rows x 5 columns]\n"
          ]
        }
      ],
      "source": [
        "#avant l'encodage\n",
        "\n",
        "numeric_features = ['NumericSequence', 'NumericRatio', 'StrangeCharacters', 'ConsoantRatio','VowelRatio']\n",
        "print (data[numeric_features])"
      ]
    },
    {
      "cell_type": "code",
      "execution_count": 94,
      "metadata": {
        "id": "Zo4tX3qNY7Dn"
      },
      "outputs": [],
      "source": [
        "# Sélection des fonctionnalités numériques\n",
        "numeric_features = X[['NumericSequence', 'NumericRatio', 'StrangeCharacters', 'ConsoantRatio','VowelRatio']]\n",
        "\n",
        "# Création d'un scaler\n",
        "scaler = MinMaxScaler()\n",
        "\n",
        "# Ajustement du scaler aux données\n",
        "scaler.fit(numeric_features)\n",
        "\n",
        "# Transformation des fonctionnalités numériques\n",
        "scaled_numeric_features = scaler.transform(numeric_features)"
      ]
    },
    {
      "cell_type": "code",
      "execution_count": 95,
      "metadata": {
        "colab": {
          "base_uri": "https://localhost:8080/"
        },
        "id": "lkH7SenqY-IN",
        "outputId": "a500047c-c54b-4c1b-8131-899a7ee7ebbf"
      },
      "outputs": [
        {
          "name": "stdout",
          "output_type": "stream",
          "text": [
            "Après transformation\n",
            "       NumericSequence  NumericRatio  StrangeCharacters  ConsoantRatio  \\\n",
            "0             0.022222         0.125           0.088710            0.6   \n",
            "1             0.044444         0.125           0.088710            0.7   \n",
            "2             0.066667         0.250           0.193548            0.6   \n",
            "3             0.044444         0.125           0.120968            0.6   \n",
            "4             0.044444         0.250           0.185484            0.6   \n",
            "...                ...           ...                ...            ...   \n",
            "89995         0.044444         0.250           0.024194            0.5   \n",
            "89996         0.000000         0.000           0.000000            0.6   \n",
            "89997         0.044444         0.125           0.008065            0.5   \n",
            "89998         0.000000         0.000           0.000000            0.5   \n",
            "89999         0.000000         0.000           0.008065            0.6   \n",
            "\n",
            "       VowelRatio  \n",
            "0           0.250  \n",
            "1           0.250  \n",
            "2           0.250  \n",
            "3           0.125  \n",
            "4           0.125  \n",
            "...           ...  \n",
            "89995       0.250  \n",
            "89996       0.500  \n",
            "89997       0.500  \n",
            "89998       0.500  \n",
            "89999       0.375  \n",
            "\n",
            "[90000 rows x 5 columns]\n"
          ]
        }
      ],
      "source": [
        "# Apres transformation\n",
        "\n",
        "# Création d' un DataFrame à partir des valeurs transformées\n",
        "scaled_df = pd.DataFrame(scaled_numeric_features, columns=numeric_features.columns)\n",
        "\n",
        "# Afficher le DataFrame avec les valeurs transformées\n",
        "print(\"Après transformation\")\n",
        "print(scaled_df)"
      ]
    },
    {
      "cell_type": "code",
      "execution_count": 96,
      "metadata": {
        "id": "Kqry8FR8ZFDR"
      },
      "outputs": [],
      "source": [
        "# Concaténation des données encodées et prétraitées\n",
        "X_combined = np.concatenate([encoded_dns_data, scaled_numeric_features], axis=1)"
      ]
    },
    {
      "cell_type": "code",
      "execution_count": 97,
      "metadata": {
        "colab": {
          "base_uri": "https://localhost:8080/"
        },
        "id": "QW3yish-ONys",
        "outputId": "2cb58e91-f7ca-4562-ccf4-fc6536e54e26"
      },
      "outputs": [
        {
          "name": "stdout",
          "output_type": "stream",
          "text": [
            "Drive already mounted at /content/drive; to attempt to forcibly remount, call drive.mount(\"/content/drive\", force_remount=True).\n"
          ]
        }
      ],
      "source": [
        "#chargement de mon google dive pour stovker mon travail\n",
        "from google.colab import drive\n",
        "drive.mount('/content/drive')"
      ]
    },
    {
      "cell_type": "code",
      "execution_count": 98,
      "metadata": {
        "id": "9-oN3YhiLl0P"
      },
      "outputs": [],
      "source": [
        "\n",
        "from keras.callbacks import ModelCheckpoint"
      ]
    },
    {
      "cell_type": "code",
      "execution_count": 99,
      "metadata": {
        "id": "a4prGTxbLrSY"
      },
      "outputs": [],
      "source": [
        "#creation des chekpoint pour suivre l'historique de l'entrainement et sauvegarder le model le plus performant\n",
        "\n",
        "checkpoint = ModelCheckpoint('/content/drive/MyDrive/Models/meilleur_modele.h5', monitor='val_loss', save_best_only=True, mode='min', verbose=1)"
      ]
    },
    {
      "cell_type": "code",
      "execution_count": 100,
      "metadata": {
        "id": "vEONs0tFZI3V"
      },
      "outputs": [],
      "source": [
        "\n",
        "# Création du modèle CNN\n",
        "embedding_dim = 100\n",
        "\n",
        "model = Sequential([\n",
        "    layers.Embedding(input_dim=vocab_size, output_dim=embedding_dim, input_length=105),\n",
        "    layers.Conv1D(32, 5, activation='relu'),\n",
        "    layers.MaxPooling1D(5),\n",
        "    layers.Conv1D(32, 5, activation='relu'),\n",
        "    layers.GlobalMaxPooling1D(),\n",
        "    layers.Dense(64, activation='relu'),\n",
        "    layers.Dropout(0.5),\n",
        "    layers.Dense(1, activation='sigmoid')\n",
        "])\n",
        "\n",
        "# Compilation du modèle\n",
        "model.compile(optimizer='adam',\n",
        "              loss='binary_crossentropy',\n",
        "              metrics=['accuracy'])"
      ]
    },
    {
      "cell_type": "code",
      "execution_count": 101,
      "metadata": {
        "id": "VG9JzkZeZM3t"
      },
      "outputs": [],
      "source": [
        "### Entraînement et évaluation du modèle\n",
        "\n",
        "# Split des données en ensembles d'entraînement et de test\n",
        "from sklearn.model_selection import train_test_split\n",
        "\n",
        "X_train, X_test, y_train, y_test = train_test_split(X_combined, y, test_size=0.2, random_state=42)\n",
        "\n",
        "\n",
        "# Ajuster la forme des données d'entraînement je reshape a 105 car c'est la valeur definie dns moa couche d'embedding \n",
        "#est celle qui travailleras sur les données categoriques/textuelles\n",
        "\n",
        "X_train = np.reshape(X_train, (X_train.shape[0], 105))\n",
        "\n",
        "# Ajuster la forme des données de test\n",
        "X_test = np.reshape(X_test, (X_test.shape[0], 105))\n"
      ]
    },
    {
      "cell_type": "code",
      "execution_count": 102,
      "metadata": {
        "colab": {
          "base_uri": "https://localhost:8080/"
        },
        "id": "pUzKMMY3ZOsr",
        "outputId": "0208041e-7d2f-4b97-fe65-0eed10da1621"
      },
      "outputs": [
        {
          "name": "stdout",
          "output_type": "stream",
          "text": [
            "Batch size: 72000\n",
            "Dimension: 105\n"
          ]
        }
      ],
      "source": [
        "batch_size, dimension = X_train.shape[0], X_train.shape[1]\n",
        "print(\"Batch size:\", batch_size)\n",
        "print(\"Dimension:\", dimension)\n",
        "\n",
        "#la dimension ici doit correspondre au maxlen de la couche embedding"
      ]
    },
    {
      "cell_type": "code",
      "execution_count": 103,
      "metadata": {
        "colab": {
          "base_uri": "https://localhost:8080/"
        },
        "id": "I2IX50K6ZT1U",
        "outputId": "c16ccbea-9ed7-4a69-fcde-8b559dcabb3e"
      },
      "outputs": [
        {
          "name": "stdout",
          "output_type": "stream",
          "text": [
            "Epoch 1/30\n",
            "2250/2250 [==============================] - ETA: 0s - loss: 0.1909 - accuracy: 0.9432\n",
            "Epoch 1: val_loss improved from inf to 0.16630, saving model to /content/drive/MyDrive/Models/meilleur_modele.h5\n",
            "2250/2250 [==============================] - 65s 28ms/step - loss: 0.1909 - accuracy: 0.9432 - val_loss: 0.1663 - val_accuracy: 0.9501\n",
            "Epoch 2/30\n",
            "   3/2250 [..............................] - ETA: 59s - loss: 0.2003 - accuracy: 0.9375"
          ]
        },
        {
          "name": "stderr",
          "output_type": "stream",
          "text": [
            "/usr/local/lib/python3.10/dist-packages/keras/src/engine/training.py:3103: UserWarning: You are saving your model as an HDF5 file via `model.save()`. This file format is considered legacy. We recommend using instead the native Keras format, e.g. `model.save('my_model.keras')`.\n",
            "  saving_api.save_model(\n"
          ]
        },
        {
          "name": "stdout",
          "output_type": "stream",
          "text": [
            "2250/2250 [==============================] - ETA: 0s - loss: 0.1728 - accuracy: 0.9496\n",
            "Epoch 2: val_loss did not improve from 0.16630\n",
            "2250/2250 [==============================] - 64s 28ms/step - loss: 0.1728 - accuracy: 0.9496 - val_loss: 0.1664 - val_accuracy: 0.9501\n",
            "Epoch 3/30\n",
            "2249/2250 [============================>.] - ETA: 0s - loss: 0.1723 - accuracy: 0.9495\n",
            "Epoch 3: val_loss did not improve from 0.16630\n",
            "2250/2250 [==============================] - 63s 28ms/step - loss: 0.1723 - accuracy: 0.9495 - val_loss: 0.1665 - val_accuracy: 0.9501\n",
            "Epoch 4/30\n",
            "2249/2250 [============================>.] - ETA: 0s - loss: 0.1713 - accuracy: 0.9496\n",
            "Epoch 4: val_loss did not improve from 0.16630\n",
            "2250/2250 [==============================] - 63s 28ms/step - loss: 0.1714 - accuracy: 0.9495 - val_loss: 0.1675 - val_accuracy: 0.9501\n",
            "Epoch 5/30\n",
            "2249/2250 [============================>.] - ETA: 0s - loss: 0.1709 - accuracy: 0.9496\n",
            "Epoch 5: val_loss improved from 0.16630 to 0.16627, saving model to /content/drive/MyDrive/Models/meilleur_modele.h5\n",
            "2250/2250 [==============================] - 69s 31ms/step - loss: 0.1709 - accuracy: 0.9496 - val_loss: 0.1663 - val_accuracy: 0.9499\n",
            "Epoch 6/30\n",
            "2249/2250 [============================>.] - ETA: 0s - loss: 0.1700 - accuracy: 0.9495\n",
            "Epoch 6: val_loss did not improve from 0.16627\n",
            "2250/2250 [==============================] - 81s 36ms/step - loss: 0.1700 - accuracy: 0.9495 - val_loss: 0.1664 - val_accuracy: 0.9501\n",
            "Epoch 7/30\n",
            "2250/2250 [==============================] - ETA: 0s - loss: 0.1693 - accuracy: 0.9496\n",
            "Epoch 7: val_loss did not improve from 0.16627\n",
            "2250/2250 [==============================] - 66s 29ms/step - loss: 0.1693 - accuracy: 0.9496 - val_loss: 0.1665 - val_accuracy: 0.9499\n",
            "Epoch 8/30\n",
            "2250/2250 [==============================] - ETA: 0s - loss: 0.1691 - accuracy: 0.9496\n",
            "Epoch 8: val_loss did not improve from 0.16627\n",
            "2250/2250 [==============================] - 66s 29ms/step - loss: 0.1691 - accuracy: 0.9496 - val_loss: 0.1663 - val_accuracy: 0.9499\n",
            "Epoch 9/30\n",
            "2248/2250 [============================>.] - ETA: 0s - loss: 0.1689 - accuracy: 0.9497\n",
            "Epoch 9: val_loss did not improve from 0.16627\n",
            "2250/2250 [==============================] - 65s 29ms/step - loss: 0.1690 - accuracy: 0.9496 - val_loss: 0.1667 - val_accuracy: 0.9499\n",
            "Epoch 10/30\n",
            "2248/2250 [============================>.] - ETA: 0s - loss: 0.1688 - accuracy: 0.9497\n",
            "Epoch 10: val_loss did not improve from 0.16627\n",
            "2250/2250 [==============================] - 64s 29ms/step - loss: 0.1689 - accuracy: 0.9497 - val_loss: 0.1664 - val_accuracy: 0.9499\n",
            "Epoch 11/30\n",
            "2250/2250 [==============================] - ETA: 0s - loss: 0.1688 - accuracy: 0.9496\n",
            "Epoch 11: val_loss did not improve from 0.16627\n",
            "2250/2250 [==============================] - 71s 31ms/step - loss: 0.1688 - accuracy: 0.9496 - val_loss: 0.1663 - val_accuracy: 0.9501\n",
            "Epoch 12/30\n",
            "2249/2250 [============================>.] - ETA: 0s - loss: 0.1684 - accuracy: 0.9496\n",
            "Epoch 12: val_loss improved from 0.16627 to 0.16624, saving model to /content/drive/MyDrive/Models/meilleur_modele.h5\n",
            "2250/2250 [==============================] - 66s 29ms/step - loss: 0.1685 - accuracy: 0.9496 - val_loss: 0.1662 - val_accuracy: 0.9501\n",
            "Epoch 13/30\n",
            "2248/2250 [============================>.] - ETA: 0s - loss: 0.1686 - accuracy: 0.9496\n",
            "Epoch 13: val_loss did not improve from 0.16624\n",
            "2250/2250 [==============================] - 63s 28ms/step - loss: 0.1687 - accuracy: 0.9496 - val_loss: 0.1663 - val_accuracy: 0.9499\n",
            "Epoch 14/30\n",
            "2248/2250 [============================>.] - ETA: 0s - loss: 0.1688 - accuracy: 0.9497\n",
            "Epoch 14: val_loss did not improve from 0.16624\n",
            "2250/2250 [==============================] - 63s 28ms/step - loss: 0.1688 - accuracy: 0.9497 - val_loss: 0.1667 - val_accuracy: 0.9499\n",
            "Epoch 15/30\n",
            "2248/2250 [============================>.] - ETA: 0s - loss: 0.1687 - accuracy: 0.9495\n",
            "Epoch 15: val_loss did not improve from 0.16624\n",
            "2250/2250 [==============================] - 63s 28ms/step - loss: 0.1686 - accuracy: 0.9495 - val_loss: 0.1662 - val_accuracy: 0.9501\n",
            "Epoch 16/30\n",
            "2249/2250 [============================>.] - ETA: 0s - loss: 0.1686 - accuracy: 0.9496\n",
            "Epoch 16: val_loss did not improve from 0.16624\n",
            "2250/2250 [==============================] - 63s 28ms/step - loss: 0.1686 - accuracy: 0.9496 - val_loss: 0.1662 - val_accuracy: 0.9501\n",
            "Epoch 17/30\n",
            "2250/2250 [==============================] - ETA: 0s - loss: 0.1687 - accuracy: 0.9495\n",
            "Epoch 17: val_loss did not improve from 0.16624\n",
            "2250/2250 [==============================] - 63s 28ms/step - loss: 0.1687 - accuracy: 0.9495 - val_loss: 0.1663 - val_accuracy: 0.9501\n",
            "Epoch 18/30\n",
            "2250/2250 [==============================] - ETA: 0s - loss: 0.1685 - accuracy: 0.9497\n",
            "Epoch 18: val_loss did not improve from 0.16624\n",
            "2250/2250 [==============================] - 65s 29ms/step - loss: 0.1685 - accuracy: 0.9497 - val_loss: 0.1675 - val_accuracy: 0.9499\n",
            "Epoch 19/30\n",
            "2249/2250 [============================>.] - ETA: 0s - loss: 0.1687 - accuracy: 0.9495\n",
            "Epoch 19: val_loss did not improve from 0.16624\n",
            "2250/2250 [==============================] - 63s 28ms/step - loss: 0.1687 - accuracy: 0.9495 - val_loss: 0.1664 - val_accuracy: 0.9499\n",
            "Epoch 20/30\n",
            "2248/2250 [============================>.] - ETA: 0s - loss: 0.1685 - accuracy: 0.9495\n",
            "Epoch 20: val_loss did not improve from 0.16624\n",
            "2250/2250 [==============================] - 63s 28ms/step - loss: 0.1686 - accuracy: 0.9495 - val_loss: 0.1663 - val_accuracy: 0.9501\n",
            "Epoch 21/30\n",
            "2250/2250 [==============================] - ETA: 0s - loss: 0.1685 - accuracy: 0.9496\n",
            "Epoch 21: val_loss did not improve from 0.16624\n",
            "2250/2250 [==============================] - 64s 28ms/step - loss: 0.1685 - accuracy: 0.9496 - val_loss: 0.1663 - val_accuracy: 0.9501\n",
            "Epoch 22/30\n",
            "2248/2250 [============================>.] - ETA: 0s - loss: 0.1685 - accuracy: 0.9496\n",
            "Epoch 22: val_loss did not improve from 0.16624\n",
            "2250/2250 [==============================] - 63s 28ms/step - loss: 0.1684 - accuracy: 0.9496 - val_loss: 0.1662 - val_accuracy: 0.9501\n",
            "Epoch 23/30\n",
            "2248/2250 [============================>.] - ETA: 0s - loss: 0.1685 - accuracy: 0.9495\n",
            "Epoch 23: val_loss did not improve from 0.16624\n",
            "2250/2250 [==============================] - 63s 28ms/step - loss: 0.1685 - accuracy: 0.9496 - val_loss: 0.1664 - val_accuracy: 0.9499\n",
            "Epoch 24/30\n",
            "2249/2250 [============================>.] - ETA: 0s - loss: 0.1686 - accuracy: 0.9495\n",
            "Epoch 24: val_loss did not improve from 0.16624\n",
            "2250/2250 [==============================] - 62s 28ms/step - loss: 0.1686 - accuracy: 0.9495 - val_loss: 0.1663 - val_accuracy: 0.9501\n",
            "Epoch 25/30\n",
            "2249/2250 [============================>.] - ETA: 0s - loss: 0.1685 - accuracy: 0.9496\n",
            "Epoch 25: val_loss did not improve from 0.16624\n",
            "2250/2250 [==============================] - 63s 28ms/step - loss: 0.1685 - accuracy: 0.9496 - val_loss: 0.1663 - val_accuracy: 0.9501\n",
            "Epoch 26/30\n",
            "2249/2250 [============================>.] - ETA: 0s - loss: 0.1684 - accuracy: 0.9497\n",
            "Epoch 26: val_loss did not improve from 0.16624\n",
            "2250/2250 [==============================] - 63s 28ms/step - loss: 0.1684 - accuracy: 0.9497 - val_loss: 0.1663 - val_accuracy: 0.9501\n",
            "Epoch 27/30\n",
            "2249/2250 [============================>.] - ETA: 0s - loss: 0.1684 - accuracy: 0.9496\n",
            "Epoch 27: val_loss did not improve from 0.16624\n",
            "2250/2250 [==============================] - 65s 29ms/step - loss: 0.1683 - accuracy: 0.9496 - val_loss: 0.1662 - val_accuracy: 0.9501\n",
            "Epoch 28/30\n",
            "2250/2250 [==============================] - ETA: 0s - loss: 0.1685 - accuracy: 0.9495\n",
            "Epoch 28: val_loss did not improve from 0.16624\n",
            "2250/2250 [==============================] - 63s 28ms/step - loss: 0.1685 - accuracy: 0.9495 - val_loss: 0.1663 - val_accuracy: 0.9501\n",
            "Epoch 29/30\n",
            "2249/2250 [============================>.] - ETA: 0s - loss: 0.1685 - accuracy: 0.9496\n",
            "Epoch 29: val_loss did not improve from 0.16624\n",
            "2250/2250 [==============================] - 63s 28ms/step - loss: 0.1684 - accuracy: 0.9496 - val_loss: 0.1670 - val_accuracy: 0.9499\n",
            "Epoch 30/30\n",
            "2250/2250 [==============================] - ETA: 0s - loss: 0.1684 - accuracy: 0.9496\n",
            "Epoch 30: val_loss did not improve from 0.16624\n",
            "2250/2250 [==============================] - 66s 29ms/step - loss: 0.1684 - accuracy: 0.9496 - val_loss: 0.1663 - val_accuracy: 0.9501\n"
          ]
        }
      ],
      "source": [
        "# Entraînement du modèle\n",
        "history = model.fit(X_train, y_train, epochs=30, batch_size=32, validation_data=(X_test, y_test),callbacks=[checkpoint])"
      ]
    },
    {
      "cell_type": "code",
      "execution_count": 104,
      "metadata": {
        "colab": {
          "base_uri": "https://localhost:8080/"
        },
        "id": "HcEiJwNZZWbr",
        "outputId": "f8e3d897-6c38-4aae-d1b6-ac06965f6e6e"
      },
      "outputs": [
        {
          "name": "stdout",
          "output_type": "stream",
          "text": [
            "563/563 [==============================] - 3s 5ms/step\n",
            "[[0.08926634]\n",
            " [1.        ]\n",
            " [1.        ]\n",
            " ...\n",
            " [1.        ]\n",
            " [0.08926634]\n",
            " [1.        ]]\n"
          ]
        }
      ],
      "source": [
        "y_pred = model.predict(X_test)\n",
        "\n",
        "print(y_pred)"
      ]
    },
    {
      "cell_type": "code",
      "execution_count": 105,
      "metadata": {
        "id": "5R0Q20RTZYyS"
      },
      "outputs": [],
      "source": [
        "# necessaire pour afficher la matrix de confusion car a besoin que la probabilité retourner pqr lq fonction sigmoid soir saoit 0 ou 1 pour travailler dessus\n",
        "\n",
        "y_pred = np.round(y_pred)"
      ]
    },
    {
      "cell_type": "code",
      "execution_count": 106,
      "metadata": {
        "colab": {
          "base_uri": "https://localhost:8080/"
        },
        "id": "Khi9Le7oZbug",
        "outputId": "60b53297-c518-47a2-8e82-d33ee790f84a"
      },
      "outputs": [
        {
          "name": "stdout",
          "output_type": "stream",
          "text": [
            "563/563 [==============================] - 3s 6ms/step - loss: 0.1663 - accuracy: 0.9501\n",
            "Accuracy: 0.9500555396080017, Loss: 0.1662532091140747\n"
          ]
        }
      ],
      "source": [
        "# Évaluation des performances\n",
        "loss, accuracy = model.evaluate(X_test, y_test)\n",
        "print(f'Accuracy: {accuracy}, Loss: {loss}')"
      ]
    },
    {
      "cell_type": "code",
      "execution_count": 107,
      "metadata": {
        "id": "eGbN30hjZfRB"
      },
      "outputs": [],
      "source": [
        "#sauvegarde du model\n",
        "\n",
        "model.save('model.h5')"
      ]
    },
    {
      "cell_type": "code",
      "execution_count": 108,
      "metadata": {
        "colab": {
          "base_uri": "https://localhost:8080/",
          "height": 472
        },
        "id": "ZyaAY6eLZhs4",
        "outputId": "be3e4616-dad9-4594-8d36-59659de2589f"
      },
      "outputs": [
        {
          "data": {
            "image/png": "[encoded data removed]",
            "text/plain": [
              "<Figure size 640x480 with 1 Axes>"
            ]
          },
          "metadata": {},
          "output_type": "display_data"
        }
      ],
      "source": [
        "import matplotlib.pyplot as plt\n",
        "\n",
        "# Plotter la courbe de perte\n",
        "plt.plot(history.history['loss'], label='loss')\n",
        "plt.plot(history.history['val_loss'], label='val_loss')\n",
        "plt.title('Courbe d\\'apprentissage - Perte')\n",
        "plt.xlabel('Epochs')\n",
        "plt.ylabel('Perte')\n",
        "plt.legend()\n",
        "plt.show()\n"
      ]
    },
    {
      "cell_type": "code",
      "execution_count": 110,
      "metadata": {
        "colab": {
          "base_uri": "https://localhost:8080/",
          "height": 489
        },
        "id": "OvgDq1wpZkL7",
        "outputId": "7cb5e756-1e73-4a70-acfe-1bf5a10222d6"
      },
      "outputs": [
        {
          "data": {
            "image/png": "[encoded data removed]",
            "text/plain": [
              "<Figure size 640x480 with 1 Axes>"
            ]
          },
          "metadata": {},
          "output_type": "display_data"
        },
        {
          "name": "stdout",
          "output_type": "stream",
          "text": [
            "Aire sous la courbe (AUC) : 0.9508528318390553\n"
          ]
        }
      ],
      "source": [
        "from sklearn.metrics import roc_curve, roc_auc_score\n",
        "\n",
        "# Calcul des taux FPR et TPR\n",
        "fpr, tpr, thresholds = roc_curve(y_test, y_pred)\n",
        "\n",
        "# Plotter la courbe ROC\n",
        "plt.plot(fpr, tpr, label='Courbe ROC')\n",
        "plt.plot([0, 1], [0, 1], 'k--', label='Random')\n",
        "plt.xlabel('Taux de faux positifs (FPR)')\n",
        "plt.ylabel('Taux de vrais positifs (TPR)')\n",
        "plt.title('Courbe ROC')\n",
        "plt.legend()\n",
        "plt.show()\n",
        "\n",
        "# Calcul de l'AUC\n",
        "auc = roc_auc_score(y_test, y_pred)\n",
        "print('Aire sous la courbe (AUC) :', auc)\n"
      ]
    },
    {
      "cell_type": "code",
      "execution_count": 109,
      "metadata": {
        "colab": {
          "base_uri": "https://localhost:8080/",
          "height": 452
        },
        "id": "aoI30-RJZnoA",
        "outputId": "85f0eaee-1a7e-4417-a2fd-5b2e26b31b98"
      },
      "outputs": [
        {
          "data": {
            "image/png": "[encoded data removed]",
            "text/plain": [
              "<Figure size 640x480 with 2 Axes>"
            ]
          },
          "metadata": {},
          "output_type": "display_data"
        }
      ],
      "source": [
        "import seaborn as sn\n",
        "import pandas as pd\n",
        "from sklearn.metrics import confusion_matrix\n",
        "\n",
        "\n",
        "\n",
        "\n",
        "#calul preliminaire pour obtenir la matrice de confusion\n",
        "\n",
        "conf_matrix = confusion_matrix(y_test,y_pred)\n",
        "true_negatives, false_positives,false_negatives, true_positives = conf_matrix.ravel()\n",
        "\n",
        "\n",
        "# Créer la matrice de confusion\n",
        "conf_matrix = np.array([[true_negatives, false_positives], [false_negatives, true_positives]])\n",
        "\n",
        "# Afficher la matrice de confusion avec seaborn\n",
        "df_cm = pd.DataFrame(conf_matrix, index=['Actual 0', 'Actual 1'], columns=['Predicted 0', 'Predicted 1'])\n",
        "sn.heatmap(df_cm, annot=True, cmap='Blues', fmt='g')\n",
        "plt.title('Matrice de Confusion')\n",
        "plt.show()\n"
      ]
    },
    {
      "cell_type": "code",
      "execution_count": 114,
      "metadata": {
        "colab": {
          "base_uri": "https://localhost:8080/",
          "height": 472
        },
        "id": "noxVOzf6hJb6",
        "outputId": "b7a5ec14-d62f-4645-9187-8eb34f7db2bb"
      },
      "outputs": [
        {
          "data": {
            "image/png": "[encoded data removed]",
            "text/plain": [
              "<Figure size 640x480 with 1 Axes>"
            ]
          },
          "metadata": {},
          "output_type": "display_data"
        }
      ],
      "source": [
        "import matplotlib.pyplot as plt\n",
        "\n",
        "\n",
        "# Récupérer les valeurs de loss, val_loss, accuracy et val_accuracy\n",
        "loss = history.history['loss']\n",
        "val_loss = history.history['val_loss']\n",
        "accuracy = history.history['accuracy']\n",
        "val_accuracy = history.history['val_accuracy']\n",
        "epochs = range(1, len(loss) + 1)\n",
        "\n",
        "# Afficher les courbes\n",
        "plt.plot(epochs, loss, 'b', label='Training loss')\n",
        "plt.plot(epochs, val_loss, 'r', label='Validation loss')\n",
        "plt.plot(epochs, accuracy, 'g', label='Training accuracy')\n",
        "plt.plot(epochs, val_accuracy, 'y', label='Validation accuracy')\n",
        "plt.title('Training and Validation Metrics')\n",
        "plt.xlabel('Epochs')\n",
        "plt.ylabel('Metrics')\n",
        "plt.legend()\n",
        "plt.show()"
      ]
    }
  ],
  "metadata": {
    "colab": {
      "provenance": []
    },
    "kernelspec": {
      "display_name": "Python 3",
      "name": "python3"
    },
    "language_info": {
      "name": "python"
    }
  },
  "nbformat": 4,
  "nbformat_minor": 0
}
