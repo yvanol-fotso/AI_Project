{
 "cells": [
  {
   "cell_type": "code",
   "execution_count": 5,
   "metadata": {},
   "outputs": [],
   "source": [
    "import numpy as np\n",
    "\n",
    "import pandas as pd\n",
    "from sklearn.svm import SVC\n",
    "from sklearn.ensemble import RandomForestClassifier\n",
    "from sklearn.linear_model import LogisticRegression\n",
    "from sklearn.model_selection import train_test_split\n",
    "from sklearn.metrics import classification_report"
   ]
  },
  {
   "cell_type": "code",
   "execution_count": 6,
   "metadata": {},
   "outputs": [],
   "source": [
    "# Chargement du jeu de données de séries temporelles : je choisi trian.csv\n",
    "\n",
    "data = pd.read_csv(\"data/BenignAndMaliciousDataset.csv\")\n"
   ]
  },
  {
   "cell_type": "code",
   "execution_count": null,
   "metadata": {},
   "outputs": [],
   "source": [
    "# Infos sur le jeu de données (types, valeurs manquantes, etc.)\n",
    "print(data.info())\n"
   ]
  },
  {
   "cell_type": "code",
   "execution_count": null,
   "metadata": {},
   "outputs": [],
   "source": [
    "# Statistiques descriptives\n",
    "\n",
    "#choix des caracteristiques importantes pour continuer a travailler avec\n",
    "\n",
    "print(data.describe())\n"
   ]
  },
  {
   "cell_type": "code",
   "execution_count": 7,
   "metadata": {},
   "outputs": [],
   "source": [
    "# Les colonnes à garder comme features\n",
    "features = [\n",
    "  'Domain', 'Ip', 'CreationDate', 'LastUpdateDate', 'ASN', \n",
    "  'HttpResponseCode', 'SubdomainNumber', 'Entropy', 'EntropyOfSubDomains',\n",
    "  'StrangeCharacters', 'ConsoantRatio', 'NumericRatio', 'SpecialCharRatio',\n",
    "  'VowelRatio', 'ConsoantSequence', 'VowelSequence', 'NumericSequence', \n",
    "  'SpecialCharSequence', 'DomainLength'\n",
    "]\n",
    "\n",
    "# La colonne cible\n",
    "target = 'Class'\n",
    "\n",
    "# Séparation en features et target\n",
    "X = data[features]  \n",
    "y = data[target]\n"
   ]
  },
  {
   "cell_type": "code",
   "execution_count": 8,
   "metadata": {},
   "outputs": [],
   "source": [
    "# Split train/test\n",
    "X_train, X_test, y_train, y_test = train_test_split(X, y)\n"
   ]
  },
  {
   "cell_type": "code",
   "execution_count": 11,
   "metadata": {},
   "outputs": [],
   "source": [
    "#Modèles de base\n",
    "\n",
    "svm = SVC(probability=True).fit(X_train, y_train)\n",
    "rf = RandomForestClassifier().fit(X_train, y_train)"
   ]
  },
  {
   "cell_type": "code",
   "execution_count": 12,
   "metadata": {},
   "outputs": [],
   "source": [
    "#Prédictions\n",
    "\n",
    "preds_svm = svm.predict_proba(X_test)[:,1]\n",
    "preds_rf = rf.predict_proba(X_test)[:,1]"
   ]
  },
  {
   "cell_type": "code",
   "execution_count": 13,
   "metadata": {},
   "outputs": [],
   "source": [
    "#Combinaison\n",
    "\n",
    "X_stack = np.column_stack((preds_svm, preds_rf))"
   ]
  },
  {
   "cell_type": "code",
   "execution_count": 14,
   "metadata": {},
   "outputs": [],
   "source": [
    "#Modèle d'ensemble\n",
    "\n",
    "meta = LogisticRegression().fit(X_stack, y_test)"
   ]
  },
  {
   "cell_type": "code",
   "execution_count": 15,
   "metadata": {},
   "outputs": [
    {
     "name": "stdout",
     "output_type": "stream",
     "text": [
      "              precision    recall  f1-score   support\n",
      "\n",
      "           0       1.00      1.00      1.00     11263\n",
      "           1       1.00      1.00      1.00     11237\n",
      "\n",
      "    accuracy                           1.00     22500\n",
      "   macro avg       1.00      1.00      1.00     22500\n",
      "weighted avg       1.00      1.00      1.00     22500\n",
      "\n"
     ]
    }
   ],
   "source": [
    "#Evaluation\n",
    "\n",
    "y_pred = meta.predict(X_stack)\n",
    "print(classification_report(y_test, y_pred))"
   ]
  }
 ],
 "metadata": {
  "kernelspec": {
   "display_name": "Python 3",
   "language": "python",
   "name": "python3"
  },
  "language_info": {
   "codemirror_mode": {
    "name": "ipython",
    "version": 3
   },
   "file_extension": ".py",
   "mimetype": "text/x-python",
   "name": "python",
   "nbconvert_exporter": "python",
   "pygments_lexer": "ipython3",
   "version": "3.10.0"
  }
 },
 "nbformat": 4,
 "nbformat_minor": 2
}
