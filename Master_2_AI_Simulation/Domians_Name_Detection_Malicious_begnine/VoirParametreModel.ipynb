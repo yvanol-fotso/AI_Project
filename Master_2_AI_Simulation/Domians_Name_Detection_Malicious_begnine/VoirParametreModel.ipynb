{
 "cells": [
  {
   "cell_type": "code",
   "execution_count": 1,
   "metadata": {},
   "outputs": [
    {
     "name": "stdout",
     "output_type": "stream",
     "text": [
      "Model: \"sequential\"\n",
      "_________________________________________________________________\n",
      " Layer (type)                Output Shape              Param #   \n",
      "=================================================================\n",
      " conv1d (Conv1D)             (None, 126, 32)           128       \n",
      "                                                                 \n",
      "=================================================================\n",
      "Total params: 128\n",
      "Trainable params: 128\n",
      "Non-trainable params: 0\n",
      "_________________________________________________________________\n"
     ]
    }
   ],
   "source": [
    "from tensorflow.keras.models import Sequential\n",
    "from tensorflow.keras.layers import Conv1D\n",
    "\n",
    "# Définir les dimensions de l'entrée\n",
    "input_shape = (128, 1)  # Exemple : (taille_séquence, nombre_de_caractéristiques)\n",
    "\n",
    "# Définir les paramètres de l'échantillonnage\n",
    "kernel_size = 3\n",
    "stride = 1\n",
    "\n",
    "# Créer le modèle\n",
    "model = Sequential()\n",
    "model.add(Conv1D(filters=32, kernel_size=kernel_size, strides=stride, input_shape=input_shape))\n",
    "# Ajouter d'autres couches à mon  modèle si necessaire\n",
    "\n",
    "# Afficher les informations du modèle\n",
    "model.summary()"
   ]
  }
 ],
 "metadata": {
  "kernelspec": {
   "display_name": "Python 3",
   "language": "python",
   "name": "python3"
  },
  "language_info": {
   "codemirror_mode": {
    "name": "ipython",
    "version": 3
   },
   "file_extension": ".py",
   "mimetype": "text/x-python",
   "name": "python",
   "nbconvert_exporter": "python",
   "pygments_lexer": "ipython3",
   "version": "3.10.0"
  }
 },
 "nbformat": 4,
 "nbformat_minor": 2
}
