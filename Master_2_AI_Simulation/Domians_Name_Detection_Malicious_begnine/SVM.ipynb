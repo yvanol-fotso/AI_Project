{
 "cells": [
  {
   "cell_type": "code",
   "execution_count": 1,
   "metadata": {},
   "outputs": [],
   "source": [
    "# Importation des bibliothèques nécessaires\n",
    "import pandas as pd\n",
    "import matplotlib.pyplot as plt\n",
    "import seaborn as sns\n",
    "from sklearn.model_selection import train_test_split,GridSearchCV,RandomizedSearchCV\n",
    "from sklearn.metrics import classification_report, roc_curve, auc,accuracy_score\n",
    "from sklearn.neighbors import KNeighborsClassifier\n",
    "from sklearn.svm import SVC\n"
   ]
  },
  {
   "cell_type": "code",
   "execution_count": 2,
   "metadata": {},
   "outputs": [],
   "source": [
    "# chargement dataset\n",
    "data = pd.read_csv(\"../data/BenignAndMaliciousDataset.csv\")\n"
   ]
  },
  {
   "cell_type": "code",
   "execution_count": 3,
   "metadata": {},
   "outputs": [
    {
     "name": "stdout",
     "output_type": "stream",
     "text": [
      "   Domain DNSRecordType  MXDnsResponse  TXTDnsResponse  HasSPFInfo   \n",
      "0    4455             A          False           False       False  \\\n",
      "1    4456             A          False           False       False   \n",
      "2    4457             A          False           False       False   \n",
      "3    4458             A          False           False       False   \n",
      "4    4459             A          False           False       False   \n",
      "\n",
      "   HasDkimInfo  HasDmarcInfo     Ip  DomainInAlexaDB  CommonPorts  ...   \n",
      "0        False         False  16984            False        False  ...  \\\n",
      "1        False         False  16984            False        False  ...   \n",
      "2        False         False  16984            False        False  ...   \n",
      "3        False         False  16984            False        False  ...   \n",
      "4        False         False  16984            False        False  ...   \n",
      "\n",
      "  ConsoantRatio NumericRatio  SpecialCharRatio  VowelRatio  ConsoantSequence   \n",
      "0           0.6          0.1               0.0         0.2                10  \\\n",
      "1           0.7          0.1               0.0         0.2                12   \n",
      "2           0.6          0.2               0.0         0.2                16   \n",
      "3           0.6          0.1               0.0         0.1                 9   \n",
      "4           0.6          0.2               0.0         0.1                10   \n",
      "\n",
      "   VowelSequence NumericSequence  SpecialCharSequence  DomainLength  Class  \n",
      "0              4               1                    0           134      1  \n",
      "1              2               2                    1           123      1  \n",
      "2              2               3                    0           150      1  \n",
      "3              1               2                    0           122      1  \n",
      "4              2               2                    0           151      1  \n",
      "\n",
      "[5 rows x 34 columns]\n"
     ]
    }
   ],
   "source": [
    "# Analyse exploratoire des données temporelles\n",
    "# Affichage des premières lignes du jeu de données\n",
    "\n",
    "print(data.head())"
   ]
  },
  {
   "cell_type": "code",
   "execution_count": 4,
   "metadata": {},
   "outputs": [
    {
     "name": "stdout",
     "output_type": "stream",
     "text": [
      "<class 'pandas.core.frame.DataFrame'>\n",
      "RangeIndex: 90000 entries, 0 to 89999\n",
      "Data columns (total 34 columns):\n",
      " #   Column               Non-Null Count  Dtype  \n",
      "---  ------               --------------  -----  \n",
      " 0   Domain               90000 non-null  int64  \n",
      " 1   DNSRecordType        90000 non-null  object \n",
      " 2   MXDnsResponse        90000 non-null  bool   \n",
      " 3   TXTDnsResponse       90000 non-null  bool   \n",
      " 4   HasSPFInfo           90000 non-null  bool   \n",
      " 5   HasDkimInfo          90000 non-null  bool   \n",
      " 6   HasDmarcInfo         90000 non-null  bool   \n",
      " 7   Ip                   90000 non-null  int64  \n",
      " 8   DomainInAlexaDB      90000 non-null  bool   \n",
      " 9   CommonPorts          90000 non-null  bool   \n",
      " 10  CountryCode          60948 non-null  object \n",
      " 11  RegisteredCountry    12226 non-null  object \n",
      " 12  CreationDate         90000 non-null  int64  \n",
      " 13  LastUpdateDate       90000 non-null  int64  \n",
      " 14  ASN                  90000 non-null  int64  \n",
      " 15  HttpResponseCode     90000 non-null  int64  \n",
      " 16  RegisteredOrg        54609 non-null  object \n",
      " 17  SubdomainNumber      90000 non-null  int64  \n",
      " 18  Entropy              90000 non-null  int64  \n",
      " 19  EntropyOfSubDomains  90000 non-null  int64  \n",
      " 20  StrangeCharacters    90000 non-null  int64  \n",
      " 21  TLD                  89830 non-null  object \n",
      " 22  IpReputation         90000 non-null  bool   \n",
      " 23  DomainReputation     90000 non-null  bool   \n",
      " 24  ConsoantRatio        90000 non-null  float64\n",
      " 25  NumericRatio         90000 non-null  float64\n",
      " 26  SpecialCharRatio     90000 non-null  float64\n",
      " 27  VowelRatio           90000 non-null  float64\n",
      " 28  ConsoantSequence     90000 non-null  int64  \n",
      " 29  VowelSequence        90000 non-null  int64  \n",
      " 30  NumericSequence      90000 non-null  int64  \n",
      " 31  SpecialCharSequence  90000 non-null  int64  \n",
      " 32  DomainLength         90000 non-null  int64  \n",
      " 33  Class                90000 non-null  int64  \n",
      "dtypes: bool(9), float64(4), int64(16), object(5)\n",
      "memory usage: 17.9+ MB\n",
      "None\n"
     ]
    }
   ],
   "source": [
    "# Infos sur le jeu de données (types, valeurs manquantes, etc.)\n",
    "print(data.info())\n"
   ]
  },
  {
   "cell_type": "code",
   "execution_count": 5,
   "metadata": {},
   "outputs": [
    {
     "name": "stdout",
     "output_type": "stream",
     "text": [
      "             Domain            Ip  CreationDate  LastUpdateDate   \n",
      "count  90000.000000  90000.000000  90000.000000    90000.000000  \\\n",
      "mean   44999.500000  13479.648033      1.933611        2.365744   \n",
      "std    25980.906451   4160.266410      1.997232        1.935509   \n",
      "min        0.000000      0.000000      0.000000        0.000000   \n",
      "25%    22499.750000  11709.750000      0.000000        0.000000   \n",
      "50%    44999.500000  14626.000000      0.000000        4.000000   \n",
      "75%    67499.250000  16984.000000      4.000000        4.000000   \n",
      "max    89999.000000  16984.000000      4.000000        4.000000   \n",
      "\n",
      "                 ASN  HttpResponseCode  SubdomainNumber       Entropy   \n",
      "count   90000.000000      90000.000000     90000.000000  90000.000000  \\\n",
      "mean    23335.808167          0.667033       103.069200      2.866844   \n",
      "std     37004.865724          1.203285      4243.802846      0.488291   \n",
      "min        -1.000000          0.000000         0.000000      0.000000   \n",
      "25%        -1.000000          0.000000         0.000000      3.000000   \n",
      "50%     26228.000000          0.000000         0.000000      3.000000   \n",
      "75%     26228.000000          2.000000        57.000000      3.000000   \n",
      "max    398108.000000          5.000000    661909.000000      5.000000   \n",
      "\n",
      "       EntropyOfSubDomains  StrangeCharacters  ConsoantRatio  NumericRatio   \n",
      "count         90000.000000       90000.000000   90000.000000  90000.000000  \\\n",
      "mean              0.003178           3.498011       0.459519      0.144281   \n",
      "std               0.081042           4.471591       0.146031      0.147331   \n",
      "min               0.000000           0.000000       0.000000      0.000000   \n",
      "25%               0.000000           0.000000       0.300000      0.000000   \n",
      "50%               0.000000           1.000000       0.500000      0.100000   \n",
      "75%               0.000000           7.000000       0.600000      0.300000   \n",
      "max               3.000000         124.000000       1.000000      0.800000   \n",
      "\n",
      "       SpecialCharRatio    VowelRatio  ConsoantSequence  VowelSequence   \n",
      "count      90000.000000  90000.000000      90000.000000   90000.000000  \\\n",
      "mean           0.006526      0.261528          2.719222       1.342756   \n",
      "std            0.026162      0.098600          1.699339       0.554527   \n",
      "min            0.000000      0.000000          0.000000       0.000000   \n",
      "25%            0.000000      0.200000          2.000000       1.000000   \n",
      "50%            0.000000      0.200000          2.000000       1.000000   \n",
      "75%            0.000000      0.300000          3.000000       2.000000   \n",
      "max            0.900000      0.800000         37.000000       7.000000   \n",
      "\n",
      "       NumericSequence  SpecialCharSequence  DomainLength         Class  \n",
      "count     90000.000000         90000.000000  90000.000000  90000.000000  \n",
      "mean          1.516478             0.112378     26.440422      0.500000  \n",
      "std           1.538932             0.431967     22.341135      0.500003  \n",
      "min           0.000000             0.000000      4.000000      0.000000  \n",
      "25%           0.000000             0.000000     15.000000      0.000000  \n",
      "50%           1.000000             0.000000     24.000000      0.500000  \n",
      "75%           3.000000             0.000000     31.000000      1.000000  \n",
      "max          45.000000            61.000000    153.000000      1.000000  \n"
     ]
    }
   ],
   "source": [
    "# Statistiques descriptives\n",
    "\n",
    "print(data.describe())\n"
   ]
  },
  {
   "cell_type": "code",
   "execution_count": 6,
   "metadata": {},
   "outputs": [],
   "source": [
    "# Les colonnes à garder comme features important apres selection avec l'algo RFECV  avec comme nombre de parametre fixer a neuf\n",
    "features = [\n",
    "  'Domain', 'Ip', 'ASN', \n",
    "  'HttpResponseCode', 'SubdomainNumber', 'Entropy', 'EntropyOfSubDomains',\n",
    "  'SpecialCharSequence', 'DomainLength'\n",
    "]\n",
    "\n",
    "# La colonne cible\n",
    "target = 'Class'\n",
    "\n",
    "# Séparation en features et target\n",
    "X = data[features]  \n",
    "y = data[target]\n"
   ]
  },
  {
   "cell_type": "code",
   "execution_count": 9,
   "metadata": {},
   "outputs": [
    {
     "name": "stdout",
     "output_type": "stream",
     "text": [
      "0.992\n"
     ]
    }
   ],
   "source": [
    "# Split train/test\n",
    "X_train, X_test, y_train, y_test = train_test_split(X, y,test_size=0.2, random_state=42)\n",
    "\n",
    "# Entraîner le modèle  \n",
    "svm = SVC(probability=True).fit(X_train, y_train) \n",
    "#prediction sur les donnee de test\n",
    "y_pred = svm.predict(X_test)\n",
    "\n",
    "#evaluer la performance \n",
    "# print(classification_report(y_test, y_pred))\n",
    "\n",
    "print(accuracy_score(y_pred,y_test))\n",
    "\n",
    "\n",
    "\n"
   ]
  },
  {
   "cell_type": "code",
   "execution_count": 10,
   "metadata": {},
   "outputs": [],
   "source": [
    "# Optimisation des hyperparametre\n",
    "hyperparametres_svm = {'C': [0.1, 1, 10, 100], 'gamma': [1, 0.1, 0.01, 0.001], 'kernel': ['rbf', 'linear', 'poly', 'sigmoid']}\n",
    "\n",
    "# Initialisation de la GridSearchCV\n",
    "grid_svm = GridSearchCV(SVC(probability=True), hyperparametres_svm, cv=5, scoring='accuracy')\n",
    "\n",
    "# Adaptation du  GridSearch aux données d'entraînement\n",
    "grid_svm.fit(X_train, y_train)\n",
    "\n",
    "# Afficher hyperparamètres selectionnees comme mailleurs\n",
    "print(\"Meilleurs hyperparamètres pour SVM:\", grid_svm.best_params_)\n",
    "\n",
    "# Prédire sur les données de test avec le meilleur modèle\n",
    "y_pred_svm = grid_svm.predict(X_test)\n",
    "\n",
    "# Évaluer la performance\n",
    "print(classification_report(y_test, y_pred_svm))"
   ]
  },
  {
   "cell_type": "code",
   "execution_count": null,
   "metadata": {},
   "outputs": [],
   "source": [
    "import pickle\n",
    "\n",
    "# Sauvegarder le modèle entraîné\n",
    "pickle.dump(svm, open('svm_model.pkl','wb')) "
   ]
  },
  {
   "cell_type": "code",
   "execution_count": null,
   "metadata": {},
   "outputs": [],
   "source": [
    "# Charger le modèle   \n",
    "svm = pickle.load(open('svm_model.pkl','rb'))\n"
   ]
  },
  {
   "cell_type": "code",
   "execution_count": null,
   "metadata": {},
   "outputs": [],
   "source": [
    "# Evaluer sur données test    \n",
    "y_pred = svm.predict(X_test)\n",
    "print(classification_report(y_test, y_pred))"
   ]
  }
 ],
 "metadata": {
  "kernelspec": {
   "display_name": "Python 3",
   "language": "python",
   "name": "python3"
  },
  "language_info": {
   "codemirror_mode": {
    "name": "ipython",
    "version": 3
   },
   "file_extension": ".py",
   "mimetype": "text/x-python",
   "name": "python",
   "nbconvert_exporter": "python",
   "pygments_lexer": "ipython3",
   "version": "3.10.0"
  }
 },
 "nbformat": 4,
 "nbformat_minor": 2
}
