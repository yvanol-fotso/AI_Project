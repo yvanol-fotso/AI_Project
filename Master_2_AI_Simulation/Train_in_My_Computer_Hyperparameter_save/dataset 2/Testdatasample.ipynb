{
 "cells": [
  {
   "cell_type": "code",
   "execution_count": 21,
   "metadata": {},
   "outputs": [],
   "source": [
    "################ Bon Code ###############\n",
    "#### charger et lire un dataset [.zip] sur coolab ####\n",
    "\n",
    "import zipfile\n",
    "import os\n",
    "import pandas as pd\n",
    "\n",
    "import shutil\n",
    "\n",
    "# # Chemins vers les fichiers zip quand je suis sur google Coolab\n",
    "\n",
    "chemin_zip = \"Bell_DNS Dataset.zip\"\n",
    "\n",
    "\n",
    "# Fonction pour extraire les fichiers zip\n",
    "def extraire_zip(chemin_zip):\n",
    "    with zipfile.ZipFile(chemin_zip, 'r') as zip_ref:\n",
    "        zip_ref.extractall(\"extraction_temp\")  # Extraire les fichiers zip dans un répertoire temporaire\n",
    "\n",
    "# Fonction pour charger les fichiers CSV d'un type spécifique (stateful ou stateless)\n",
    "def charger_concatener_donnees(sous_dossier, prefixe):\n",
    "    # Lister tous les fichiers CSV dans le sous-dossier\n",
    "    fichiers_csv = [f for f in os.listdir(f\"extraction_temp/{sous_dossier}\") if f.startswith(prefixe) and f.endswith('.csv')]\n",
    "    # Lire chaque fichier CSV et le stocker dans une liste de DataFrames\n",
    "    dataframes = [pd.read_csv(f\"extraction_temp/{sous_dossier}/{f}\") for f in fichiers_csv]\n",
    "    # Concaténer les DataFrames en un seul\n",
    "    return pd.concat(dataframes, ignore_index=True)\n",
    "\n",
    "# Extraire les fichiers zip\n",
    "extraire_zip(chemin_zip)\n",
    "\n",
    "\n",
    "\n",
    "benin_data = charger_concatener_donnees(\"Bell_DNS Dataset\", \"features_domain_benign\")\n",
    "malware_data = charger_concatener_donnees(\"Bell_DNS Dataset\", \"features-domain_Malware\")\n",
    "\n",
    "phishing_data = charger_concatener_donnees(\"Bell_DNS Dataset\", \"features-domain_phishing\")\n",
    "spam_data = charger_concatener_donnees(\"Bell_DNS Dataset\", \"features-domain_Spam\")\n",
    "\n",
    "# Supprimer le répertoire temporaire après avoir terminé\n",
    "\n",
    "# Vérifier si le répertoire temporaire existe\n",
    "if os.path.exists(\"extraction_temp\"):\n",
    "    # Supprimer le répertoire temporaire et son contenu\n",
    "    shutil.rmtree(\"extraction_temp\")\n",
    "\n",
    "\n",
    "# Maintenant, vous avez vos données prêtes à être utilisées"
   ]
  },
  {
   "cell_type": "code",
   "execution_count": 14,
   "metadata": {},
   "outputs": [
    {
     "name": "stdout",
     "output_type": "stream",
     "text": [
      "Nbre de classe: class\n",
      "Benin       24249\n",
      "phishing    12702\n",
      "malware      8871\n",
      "spam         4337\n",
      "Name: count, dtype: int64\n"
     ]
    }
   ],
   "source": [
    "#### Je ne resample plus\n",
    "\n",
    "import pandas as pd\n",
    "from imblearn.under_sampling import RandomUnderSampler\n",
    "\n",
    "# Ajout de la colonne 'Class' pour chaque classe\n",
    "spam_data['class'] = 'spam'\n",
    "malware_data['class'] = 'malware'\n",
    "phishing_data['class'] = 'phishing'\n",
    "benin_data['class'] = 'Benin'\n",
    "\n",
    "\n",
    "# Concaténation des données\n",
    "all_data = pd.concat([benin_data, spam_data, malware_data, phishing_data])\n",
    "\n",
    "# Diviser les données en caractéristiques (X) et les étiquettes de classe (y)\n",
    "X = all_data.drop(columns=['class'])\n",
    "y = all_data['class']\n",
    "\n",
    "print(\"Nbre de classe:\", all_data['class'].value_counts())\n"
   ]
  },
  {
   "cell_type": "code",
   "execution_count": 28,
   "metadata": {},
   "outputs": [
    {
     "name": "stdout",
     "output_type": "stream",
     "text": [
      "Nombre de classes dans le nouveau jeu de données :\n",
      "class\n",
      "malicieux    22929\n",
      "Name: count, dtype: int64\n",
      "Nombre de classes dans le nouveau jeu de données :\n",
      "class\n",
      "Benin        23716\n",
      "malicieux    22929\n",
      "Name: count, dtype: int64\n"
     ]
    }
   ],
   "source": [
    "import pandas as pd\n",
    "from sklearn.utils import shuffle\n",
    "\n",
    "# Ajout de la colonne 'Class' pour chaque classe\n",
    "spam_data['class'] = 'spam'\n",
    "malware_data['class'] = 'malware'\n",
    "phishing_data['class'] = 'phishing'\n",
    "benin_data['class'] = 'Benin'\n",
    "\n",
    "# Concaténation des données\n",
    "all_data = pd.concat([benin_data, spam_data, malware_data, phishing_data])\n",
    "\n",
    "# Définir la taille désirée pour la classe 'malicieux'\n",
    "target_malicious_size = 22929\n",
    "\n",
    "# Calculer le nombre d'échantillons à sélectionner pour chaque classe\n",
    "target_phishing_size = int(target_malicious_size * (12702 / (12702 + 8871 + 4337)))\n",
    "target_malware_size = int(target_malicious_size * (8871 / (12702 + 8871 + 4337)))\n",
    "target_spam_size = int(target_malicious_size * (4337 / (12702 + 8871 + 4337)))\n",
    "\n",
    "# Sélectionner des échantillons de chaque classe\n",
    "malicious_data = all_data[all_data['class'] == 'phishing'].sample(n=target_phishing_size, random_state=42, replace=False)\n",
    "malicious_data = pd.concat([malicious_data, all_data[all_data['class'] == 'malware'].sample(n=target_malware_size, random_state=42, replace=False)])\n",
    "malicious_data = pd.concat([malicious_data, all_data[all_data['class'] == 'spam'].sample(n=target_spam_size, random_state=42, replace=False)])\n",
    "\n",
    "# Si le nombre total d'échantillons est inférieur à la taille désirée, ajoutez des échantillons supplémentaires en remplaçant\n",
    "while len(malicious_data) < target_malicious_size:\n",
    "    missing_samples = target_malicious_size - len(malicious_data)\n",
    "    additional_samples = all_data[all_data['class'] == 'phishing'].sample(n=missing_samples, random_state=42, replace=True)\n",
    "    malicious_data = pd.concat([malicious_data, additional_samples])\n",
    "\n",
    "# Si le nombre total d'échantillons est supérieur à la taille désirée, supprimez les échantillons excédentaires\n",
    "malicious_data = malicious_data.sample(n=target_malicious_size, random_state=42)\n",
    "\n",
    "# Mélanger les données\n",
    "malicious_data = shuffle(malicious_data, random_state=42)\n",
    "\n",
    "# Attribuer la classe 'malicieux'\n",
    "malicious_data['class'] = 'malicieux'\n",
    "\n",
    "print(\"Nombre de classes dans le nouveau jeu de données :\")\n",
    "print(malicious_data['class'].value_counts())\n",
    "\n",
    "\n",
    "\n",
    "# Sélectionner des échantillons de la classe 'Benin'\n",
    "target_benin_size = 23716\n",
    "benin_samples = benin_data.sample(n=target_benin_size, random_state=42)\n",
    "\n",
    "# Concaténer les échantillons de la classe 'Benin' avec le jeu de données malicieux\n",
    "final_data = pd.concat([malicious_data, benin_samples])\n",
    "\n",
    "# Mélanger les données\n",
    "final_data = shuffle(final_data, random_state=42)\n",
    "\n",
    "print(\"Nombre de classes dans le nouveau jeu de données :\")\n",
    "print(final_data['class'].value_counts())"
   ]
  },
  {
   "cell_type": "code",
   "execution_count": 29,
   "metadata": {},
   "outputs": [
    {
     "name": "stdout",
     "output_type": "stream",
     "text": [
      "Nombre d'échantillons pris dans chaque classe pour former le jeu de données malicieux :\n",
      "Phishing : 11240\n",
      "Malware : 7850\n",
      "Spam : 3838\n"
     ]
    }
   ],
   "source": [
    "# Afficher le nombre d'échantillons pris dans chaque classe pour former le jeu de données malicieux\n",
    "print(\"Nombre d'échantillons pris dans chaque classe pour former le jeu de données malicieux :\")\n",
    "print(f\"Phishing : {target_phishing_size}\")\n",
    "print(f\"Malware : {target_malware_size}\")\n",
    "print(f\"Spam : {target_spam_size}\")\n"
   ]
  }
 ],
 "metadata": {
  "kernelspec": {
   "display_name": "Python 3",
   "language": "python",
   "name": "python3"
  },
  "language_info": {
   "codemirror_mode": {
    "name": "ipython",
    "version": 3
   },
   "file_extension": ".py",
   "mimetype": "text/x-python",
   "name": "python",
   "nbconvert_exporter": "python",
   "pygments_lexer": "ipython3",
   "version": "3.10.0"
  }
 },
 "nbformat": 4,
 "nbformat_minor": 2
}
