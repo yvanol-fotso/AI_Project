{
 "cells": [
  {
   "cell_type": "code",
   "execution_count": null,
   "metadata": {},
   "outputs": [],
   "source": [
    "################# Taille dataset Json Final ########################\n",
    "\n",
    "import random\n",
    "import numpy as np\n",
    "import tensorflow as tf\n",
    "import json\n",
    "\n",
    "# Charger les données depuis le fichier JSON\n",
    "with open(\"data.json\", \"r\") as json_file:\n",
    "    data = json.load(json_file)[\"questions\"]\n",
    "\n",
    "\n",
    "print(len(data))\n",
    "\n",
    "print(data[:1000])"
   ]
  }
 ],
 "metadata": {
  "language_info": {
   "name": "python"
  }
 },
 "nbformat": 4,
 "nbformat_minor": 2
}
