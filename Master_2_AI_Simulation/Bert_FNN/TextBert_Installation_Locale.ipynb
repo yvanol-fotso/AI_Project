{
 "cells": [
  {
   "cell_type": "code",
   "execution_count": 1,
   "metadata": {},
   "outputs": [
    {
     "name": "stderr",
     "output_type": "stream",
     "text": [
      "c:\\python install\\lib\\site-packages\\tqdm\\auto.py:21: TqdmWarning: IProgress not found. Please update jupyter and ipywidgets. See https://ipywidgets.readthedocs.io/en/stable/user_install.html\n",
      "  from .autonotebook import tqdm as notebook_tqdm\n",
      "model.safetensors:  12%|█▏        | 52.4M/440M [02:30<18:14, 354kB/s]Error while downloading from https://cdn-lfs.huggingface.co/bert-base-uncased/68d45e234eb4a928074dfd868cead0219ab85354cc53d20e772753c6bb9169d3?response-content-disposition=attachment%3B+filename*%3DUTF-8%27%27model.safetensors%3B+filename%3D%22model.safetensors%22%3B&Expires=1707109194&Policy=eyJTdGF0ZW1lbnQiOlt7IkNvbmRpdGlvbiI6eyJEYXRlTGVzc1RoYW4iOnsiQVdTOkVwb2NoVGltZSI6MTcwNzEwOTE5NH19LCJSZXNvdXJjZSI6Imh0dHBzOi8vY2RuLWxmcy5odWdnaW5nZmFjZS5jby9iZXJ0LWJhc2UtdW5jYXNlZC82OGQ0NWUyMzRlYjRhOTI4MDc0ZGZkODY4Y2VhZDAyMTlhYjg1MzU0Y2M1M2QyMGU3NzI3NTNjNmJiOTE2OWQzP3Jlc3BvbnNlLWNvbnRlbnQtZGlzcG9zaXRpb249KiJ9XX0_&Signature=NTgkny5AYUwG-XuQgm2PWzKWMzA0pmNfqVBRcX16yA31mxj6sXGEXQoMwr%7EnUbu3aJwnVV19JMvWp7l-ie%7E-RiUgtzExxwHy81cRtuA3gutD4qrH%7EsBja99v9KeTrImntAgjp5hoj01UBfqCRx8IkkYDl9Wn9WpXLNlUyPH-tbPbtasugwIME4AxHbU8zaoR1zXZkOGwPQ9zX9pREanBwbHcMUEcUiWULvxS0R8J8VNAslAKvQdTZ7DguIGlee3K0edCrscn2Bdi7IedNgj5tfmZxkTn2onyl26iuB3r79C5gYUyTO03lZW13nYqNMBCOclKaqJUZCZ1yqjZoViWWw__&Key-Pair-Id=KVTP0A1DKRTAX: HTTPSConnectionPool(host='cdn-lfs.huggingface.co', port=443): Read timed out.\n",
      "Trying to resume download...\n",
      "Error while downloading from https://cdn-lfs.huggingface.co/bert-base-uncased/68d45e234eb4a928074dfd868cead0219ab85354cc53d20e772753c6bb9169d3?response-content-disposition=attachment%3B+filename*%3DUTF-8%27%27model.safetensors%3B+filename%3D%22model.safetensors%22%3B&Expires=1707109194&Policy=eyJTdGF0ZW1lbnQiOlt7IkNvbmRpdGlvbiI6eyJEYXRlTGVzc1RoYW4iOnsiQVdTOkVwb2NoVGltZSI6MTcwNzEwOTE5NH19LCJSZXNvdXJjZSI6Imh0dHBzOi8vY2RuLWxmcy5odWdnaW5nZmFjZS5jby9iZXJ0LWJhc2UtdW5jYXNlZC82OGQ0NWUyMzRlYjRhOTI4MDc0ZGZkODY4Y2VhZDAyMTlhYjg1MzU0Y2M1M2QyMGU3NzI3NTNjNmJiOTE2OWQzP3Jlc3BvbnNlLWNvbnRlbnQtZGlzcG9zaXRpb249KiJ9XX0_&Signature=NTgkny5AYUwG-XuQgm2PWzKWMzA0pmNfqVBRcX16yA31mxj6sXGEXQoMwr%7EnUbu3aJwnVV19JMvWp7l-ie%7E-RiUgtzExxwHy81cRtuA3gutD4qrH%7EsBja99v9KeTrImntAgjp5hoj01UBfqCRx8IkkYDl9Wn9WpXLNlUyPH-tbPbtasugwIME4AxHbU8zaoR1zXZkOGwPQ9zX9pREanBwbHcMUEcUiWULvxS0R8J8VNAslAKvQdTZ7DguIGlee3K0edCrscn2Bdi7IedNgj5tfmZxkTn2onyl26iuB3r79C5gYUyTO03lZW13nYqNMBCOclKaqJUZCZ1yqjZoViWWw__&Key-Pair-Id=KVTP0A1DKRTAX: HTTPSConnectionPool(host='cdn-lfs.huggingface.co', port=443): Read timed out.\n",
      "Trying to resume download...\n",
      "\n",
      "\u001b[A\n",
      "\u001b[A\n",
      "\u001b[A\n",
      "\u001b[A\n",
      "\u001b[A\n",
      "\u001b[A\n",
      "\u001b[A\n",
      "\u001b[A\n",
      "\u001b[A\n",
      "\u001b[A\n",
      "\u001b[A\n",
      "\u001b[A\n",
      "\u001b[A\n",
      "\u001b[A\n",
      "\u001b[A\n",
      "\u001b[A\n",
      "\u001b[A\n",
      "\u001b[A\n",
      "\u001b[A\n",
      "\u001b[A\n",
      "\u001b[A\n",
      "\u001b[A\n",
      "model.safetensors: 100%|██████████| 440M/440M [09:13<00:00, 209kB/s]\n",
      "model.safetensors:  74%|███████▍  | 325M/440M [25:15<10:41, 180kB/s]\n",
      "model.safetensors:  12%|█▏        | 52.4M/440M [29:11<3:36:00, 29.9kB/s]\n",
      "Some weights of the PyTorch model were not used when initializing the TF 2.0 model TFBertModel: ['cls.predictions.transform.LayerNorm.bias', 'cls.seq_relationship.weight', 'cls.predictions.bias', 'cls.predictions.transform.dense.weight', 'cls.predictions.transform.dense.bias', 'cls.predictions.transform.LayerNorm.weight', 'cls.seq_relationship.bias']\n",
      "- This IS expected if you are initializing TFBertModel from a PyTorch model trained on another task or with another architecture (e.g. initializing a TFBertForSequenceClassification model from a BertForPreTraining model).\n",
      "- This IS NOT expected if you are initializing TFBertModel from a PyTorch model that you expect to be exactly identical (e.g. initializing a TFBertForSequenceClassification model from a BertForSequenceClassification model).\n",
      "All the weights of TFBertModel were initialized from the PyTorch model.\n",
      "If your task is similar to the task the model of the checkpoint was trained on, you can already use TFBertModel for predictions without further training.\n"
     ]
    },
    {
     "name": "stdout",
     "output_type": "stream",
     "text": [
      "tf.Tensor(\n",
      "[[[-0.3169121   0.15212736 -0.28434664 ... -0.1551671   0.15800333\n",
      "    0.87993854]\n",
      "  [ 0.01333223  0.13858041 -0.07948717 ...  0.24498871  0.518279\n",
      "    0.7819494 ]\n",
      "  [-0.17226069 -0.38532     0.14862065 ... -0.12661391  0.09979389\n",
      "    1.3118404 ]\n",
      "  ...\n",
      "  [ 0.657872   -0.1753807  -0.08871987 ... -0.25979665  0.32401085\n",
      "    0.69220644]\n",
      "  [-0.35487425 -0.78120863 -0.20414154 ...  0.20394444  0.14484294\n",
      "    0.199635  ]\n",
      "  [ 0.58621204 -0.01212347 -0.38065708 ... -0.08218873 -0.700792\n",
      "   -0.23816966]]], shape=(1, 12, 768), dtype=float32)\n"
     ]
    }
   ],
   "source": [
    "from transformers import BertTokenizer, TFBertModel\n",
    "import tensorflow as tf\n",
    "\n",
    "\n",
    "# Charger le tokenizer et le modèle BERT pré-entraîné\n",
    "tokenizer = BertTokenizer.from_pretrained('bert-base-uncased')\n",
    "model = TFBertModel.from_pretrained('bert-base-uncased')\n",
    "\n",
    "# Exemple d'utilisation du modèle\n",
    "input_text = \"Ceci est un exemple de phrase.\"\n",
    "input_ids = tokenizer.encode(input_text, add_special_tokens=True)\n",
    "inputs = tf.constant([input_ids])\n",
    "outputs = model(inputs)\n",
    "\n",
    "# Afficher les représentations denses du texte\n",
    "last_hidden_states = outputs.last_hidden_state\n",
    "print(last_hidden_states)"
   ]
  },
  {
   "cell_type": "code",
   "execution_count": 2,
   "metadata": {},
   "outputs": [
    {
     "name": "stdout",
     "output_type": "stream",
     "text": [
      "Model: \"tf_bert_model\"\n",
      "_________________________________________________________________\n",
      " Layer (type)                Output Shape              Param #   \n",
      "=================================================================\n",
      " bert (TFBertMainLayer)      multiple                  109482240 \n",
      "                                                                 \n",
      "=================================================================\n",
      "Total params: 109,482,240\n",
      "Trainable params: 109,482,240\n",
      "Non-trainable params: 0\n",
      "_________________________________________________________________\n"
     ]
    }
   ],
   "source": [
    "# Afficher l'architecture du modèle\n",
    "model.summary()"
   ]
  }
 ],
 "metadata": {
  "kernelspec": {
   "display_name": "Python 3",
   "language": "python",
   "name": "python3"
  },
  "language_info": {
   "codemirror_mode": {
    "name": "ipython",
    "version": 3
   },
   "file_extension": ".py",
   "mimetype": "text/x-python",
   "name": "python",
   "nbconvert_exporter": "python",
   "pygments_lexer": "ipython3",
   "version": "3.10.0"
  }
 },
 "nbformat": 4,
 "nbformat_minor": 2
}
