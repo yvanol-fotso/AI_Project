{
 "cells": [
  {
   "cell_type": "code",
   "execution_count": 3,
   "metadata": {},
   "outputs": [],
   "source": [
    "import pandas as pd\n",
    "\n",
    "from sklearn.impute import SimpleImputer\n",
    "from sklearn.preprocessing import OneHotEncoder\n",
    "from sklearn.compose import ColumnTransformer\n",
    "from sklearn.pipeline import Pipeline\n",
    "from sklearn.feature_selection import RFECV\n",
    "from sklearn.tree import DecisionTreeClassifier\n",
    "\n",
    "\n",
    "\n",
    "# Chargement des fichiers CSV\n",
    "benin_data = pd.read_csv(\"../../data/dataBell_DNS Dataset/features_domain_benign_csv.csv\")\n",
    "malware_data = pd.read_csv(\"../../data/Bell_DNS Dataset/features-domain_Malware.csv\")\n",
    "phishing_data = pd.read_csv(\"../../data/Bell_DNS Dataset/features-domain_phishing.csv\")\n",
    "spam_data = pd.read_csv(\"../../data/dataBell_DNS Dataset/features-domain_Spam.csv\")\n",
    "\n",
    "# Ajout de la colonne 'Class' \n",
    "benin_data['Class'] = 'Benin'\n",
    "malware_data['Class'] = 'Malware'\n",
    "phishing_data['Class'] = 'Phishing'\n",
    "spam_data['Class'] = 'Spam'\n",
    "\n",
    "\n",
    "# Concaténation de tous les ensembles de données\n",
    "all_data = pd.concat([benin_data, malware_data, phishing_data, spam_data], ignore_index=True)\n"
   ]
  },
  {
   "cell_type": "code",
   "execution_count": 4,
   "metadata": {},
   "outputs": [],
   "source": [
    "# Spécifier la colonne cible [le faire avant l'encodage ]\n",
    "y = all_data['Class']"
   ]
  },
  {
   "cell_type": "code",
   "execution_count": 4,
   "metadata": {},
   "outputs": [],
   "source": [
    "####################### Ne pas executer ce code ################################\n",
    "###############################################################################\n",
    "\n",
    "#Convertir les variables catégorielles en variables numériques\n",
    "\n",
    "#all_data_encoded = pd.get_dummies(all_data, columns=['Class'], drop_first=True)"
   ]
  },
  {
   "cell_type": "code",
   "execution_count": 78,
   "metadata": {},
   "outputs": [],
   "source": [
    "################################ Ne pas executer c'esr juste un exemple ##############\n",
    "\n",
    "\n",
    "############## Tresimportant pour selectionner les attribut numeriques ###### il faut d'abord affihcer les types des donnees ##########\n",
    "\n",
    "\n",
    "# Séparer les caractéristiques numériques et catégorielles\n",
    "\n",
    "X_numerical = all_data.select_dtypes(include='number')\n",
    "X_categorical = all_data.select_dtypes(exclude='number')"
   ]
  },
  {
   "cell_type": "code",
   "execution_count": 5,
   "metadata": {},
   "outputs": [],
   "source": [
    "# Séparer les caractéristiques numériques et catégorielles\n",
    "\n",
    "#X_numerical = all_data.select_dtypes(include='number') ########### jai du mal a comprendre comment il fonctionne lui\n",
    "\n",
    "X_numerical = all_data.select_dtypes(include=['int64', 'float64'])\n",
    "\n",
    "X_categorical = all_data.select_dtypes(exclude='number')"
   ]
  },
  {
   "cell_type": "code",
   "execution_count": 69,
   "metadata": {},
   "outputs": [],
   "source": [
    "############################### Ne pas executer ce code ######################################\n",
    "#############################################################################################\n",
    "\n",
    "\n",
    "# Imputation des valeurs manquantes pour les caractéristiques numériques\n",
    "numerical_imputer = SimpleImputer(strategy='mean')\n",
    "X_numerical_imputed = pd.DataFrame(numerical_imputer.fit_transform(X_numerical), columns=X_numerical.columns)"
   ]
  },
  {
   "cell_type": "code",
   "execution_count": 6,
   "metadata": {},
   "outputs": [
    {
     "data": {
      "text/plain": [
       "subdomain             2.469210e-01\n",
       "len                   5.041374e+01\n",
       "numeric_percentage    4.878897e+01\n",
       "entropy               3.723222e-01\n",
       "dec_8                 0.000000e+00\n",
       "dec_32                6.559620e-03\n",
       "oc_8                  0.000000e+00\n",
       "oc_32                 7.974164e-05\n",
       "hex_8                 0.000000e+00\n",
       "hex_32                0.000000e+00\n",
       "puny_coded            4.682994e-03\n",
       "Alexa_Rank            4.153903e+12\n",
       "Page_Rank             0.000000e+00\n",
       "dtype: float64"
      ]
     },
     "execution_count": 6,
     "metadata": {},
     "output_type": "execute_result"
    }
   ],
   "source": [
    "X_numerical.var()"
   ]
  },
  {
   "cell_type": "code",
   "execution_count": 7,
   "metadata": {},
   "outputs": [
    {
     "name": "stdout",
     "output_type": "stream",
     "text": [
      "(50159, 13)\n"
     ]
    }
   ],
   "source": [
    "print(X_numerical.shape)"
   ]
  },
  {
   "cell_type": "code",
   "execution_count": 8,
   "metadata": {},
   "outputs": [
    {
     "name": "stdout",
     "output_type": "stream",
     "text": [
      "[[0.00000000e+00 3.89610390e-02 0.00000000e+00 ... 0.00000000e+00\n",
      "  1.63603505e-07 0.00000000e+00]\n",
      " [0.00000000e+00 3.89610390e-02 0.00000000e+00 ... 0.00000000e+00\n",
      "  1.63603505e-07 0.00000000e+00]\n",
      " [1.00000000e+00 5.84415584e-02 0.00000000e+00 ... 0.00000000e+00\n",
      "  1.63603505e-07 0.00000000e+00]\n",
      " ...\n",
      " [0.00000000e+00 7.79220779e-02 1.23188406e-01 ... 1.00000000e+00\n",
      "  0.00000000e+00 0.00000000e+00]\n",
      " [0.00000000e+00 7.14285714e-02 6.43939394e-02 ... 1.00000000e+00\n",
      "  0.00000000e+00 0.00000000e+00]\n",
      " [0.00000000e+00 1.42857143e-01 0.00000000e+00 ... 0.00000000e+00\n",
      "  0.00000000e+00 0.00000000e+00]]\n",
      "Après transformation\n",
      "       subdomain       len  numeric_percentage   entropy  dec_8  dec_32  oc_8   \n",
      "0            0.0  0.038961            0.000000  0.384930    0.0     0.0   0.0  \\\n",
      "1            0.0  0.038961            0.000000  0.384930    0.0     0.0   0.0   \n",
      "2            1.0  0.058442            0.000000  0.443538    0.0     0.0   0.0   \n",
      "3            1.0  0.058442            0.000000  0.443538    0.0     0.0   0.0   \n",
      "4            0.0  0.051948            0.000000  0.544495    0.0     0.0   0.0   \n",
      "...          ...       ...                 ...       ...    ...     ...   ...   \n",
      "50154        0.0  0.084416            0.118056  0.651767    0.0     0.0   0.0   \n",
      "50155        0.0  0.090909            0.113333  0.709024    0.0     0.0   0.0   \n",
      "50156        0.0  0.077922            0.123188  0.652033    0.0     0.0   0.0   \n",
      "50157        0.0  0.071429            0.064394  0.619471    0.0     0.0   0.0   \n",
      "50158        0.0  0.142857            0.000000  0.718409    0.0     0.0   0.0   \n",
      "\n",
      "       oc_32  hex_8  hex_32  puny_coded    Alexa_Rank  Page_Rank  \n",
      "0        0.0    0.0     0.0         0.0  1.636035e-07        0.0  \n",
      "1        0.0    0.0     0.0         0.0  1.636035e-07        0.0  \n",
      "2        0.0    0.0     0.0         0.0  1.636035e-07        0.0  \n",
      "3        0.0    0.0     0.0         0.0  1.636035e-07        0.0  \n",
      "4        0.0    0.0     0.0         0.0  6.544140e-07        0.0  \n",
      "...      ...    ...     ...         ...           ...        ...  \n",
      "50154    0.0    0.0     0.0         1.0  0.000000e+00        0.0  \n",
      "50155    0.0    0.0     0.0         1.0  0.000000e+00        0.0  \n",
      "50156    0.0    0.0     0.0         1.0  0.000000e+00        0.0  \n",
      "50157    0.0    0.0     0.0         1.0  0.000000e+00        0.0  \n",
      "50158    0.0    0.0     0.0         0.0  0.000000e+00        0.0  \n",
      "\n",
      "[50159 rows x 13 columns]\n",
      "Taille totale des caractéristiques numériques après transformations : (50159, 13)\n"
     ]
    }
   ],
   "source": [
    "from sklearn.impute import SimpleImputer\n",
    "from sklearn.preprocessing import MinMaxScaler\n",
    "\n",
    "# 2. Vérification des colonnes vides\n",
    "if X_numerical.isnull().any().any():\n",
    "    # Imputer les valeurs manquantes pour les caractéristiques numériques\n",
    "    numerical_imputer = SimpleImputer(strategy='mean')\n",
    "    X_numerical_imputed = pd.DataFrame(numerical_imputer.fit_transform(X_numerical), columns=X_numerical.columns)\n",
    "\n",
    "    #prepocessing des features numeriques soit  avec le  LabelEncoder soit le MinMaxScaler()\n",
    "\n",
    "    # Création d'un scaler\n",
    "    scaler = MinMaxScaler()\n",
    "\n",
    "    # Ajustement du scaler aux données\n",
    "    scaler.fit(X_numerical_imputed)\n",
    "\n",
    "    # Transformation des fonctionnalités numériques\n",
    "    scaled_numeric_features = scaler.transform(X_numerical_imputed)\n",
    "\n",
    "\n",
    "    print(scaled_numeric_features)\n",
    "\n",
    "    # Apres transformation Création d' un DataFrame à partir des valeurs transformées\n",
    "\n",
    "    scaled_df = pd.DataFrame(scaled_numeric_features, columns=X_numerical_imputed.columns)\n",
    "\n",
    "    # Afficher le DataFrame avec les valeurs transformées\n",
    "    print(\"Après transformation\")\n",
    "    print(scaled_df)\n",
    "\n",
    "    total_size = scaled_df.shape\n",
    "    print(\"Taille totale des caractéristiques numériques après transformations :\", total_size)\n",
    "else:\n",
    "    print(\"Pas de valeurs manquantes dans les caractéristiques numériques. Aucune imputation nécessaire.\")\n"
   ]
  },
  {
   "cell_type": "code",
   "execution_count": 9,
   "metadata": {},
   "outputs": [],
   "source": [
    "from sklearn.feature_selection import VarianceThreshold\n",
    "from sklearn.preprocessing import OrdinalEncoder\n",
    "\n",
    "\n",
    "# Convertir les colonnes catégorielles en chaînes de caractères (parceque actuellement sa contient les int et les str il faut normaliser en str)\n",
    "X_categorical = X_categorical.astype(str)\n",
    "\n",
    "# Utiliser l'encodage ordinal pour transformer les données catégorielles en valeurs numériques\n",
    "ordinal_encoder = OrdinalEncoder()\n",
    "X_categorical_encoded = pd.DataFrame(ordinal_encoder.fit_transform(X_categorical), columns=X_categorical.columns)\n",
    "\n",
    "# Réduire la dimension avec OneHotEncoder\n",
    "# Supprimer les colonnes avec une variance en dessous d'un certain seuil\n",
    "selector = VarianceThreshold(threshold=0.01)\n",
    "X_categorical_reduced = selector.fit_transform(X_categorical_encoded)\n",
    "\n",
    "# Mettez à jour la sélection des colonnes originales\n",
    "original_categorical_columns = X_categorical.columns[selector.get_support()]\n",
    "\n",
    "# Créer un DataFrame avec les colonnes originales\n",
    "X_categorical_reduced_df = pd.DataFrame(X_categorical_reduced, columns=original_categorical_columns)\n",
    "\n",
    "# Concaténer les caractéristiques numériques et catégorielles\n",
    "X_combined = pd.concat([X_numerical_imputed, X_categorical_reduced_df], axis=1)\n"
   ]
  },
  {
   "cell_type": "code",
   "execution_count": 12,
   "metadata": {},
   "outputs": [
    {
     "name": "stdout",
     "output_type": "stream",
     "text": [
      "(50159, 23)\n"
     ]
    }
   ],
   "source": [
    "print(X_categorical.shape)"
   ]
  },
  {
   "cell_type": "code",
   "execution_count": 13,
   "metadata": {},
   "outputs": [],
   "source": [
    "#on se rassure que tout est bien convertis pour eviter l'erreur plus bas\n",
    "\n",
    "X_combined.columns = X_combined.columns.astype(str)\n"
   ]
  },
  {
   "cell_type": "code",
   "execution_count": 14,
   "metadata": {},
   "outputs": [
    {
     "name": "stdout",
     "output_type": "stream",
     "text": [
      "Index(['subdomain', 'len', 'numeric_percentage', 'entropy', 'dec_8', 'dec_32',\n",
      "       'oc_8', 'oc_32', 'hex_8', 'hex_32', 'puny_coded', 'Alexa_Rank',\n",
      "       'Page_Rank', 'tld', 'sld', 'char_distribution', '1gram', '2gram',\n",
      "       '3gram', 'longest_word', 'distance_from_bad_words', 'typos',\n",
      "       'shortened', 'Domain_Name', 'Registrar', 'Registrant_Name',\n",
      "       'Creation_Date_Time', 'Emails', 'Domain_Age', 'Organization', 'State',\n",
      "       'Country', 'Name_Server_Count', 'Class'],\n",
      "      dtype='object')\n",
      "Index(['subdomain', 'len', 'numeric_percentage', 'entropy', 'dec_8', 'dec_32',\n",
      "       'oc_8', 'oc_32', 'hex_8', 'hex_32', 'puny_coded', 'Alexa_Rank',\n",
      "       'Page_Rank', 'tld', 'sld', 'char_distribution', '1gram', '2gram',\n",
      "       '3gram', 'longest_word', 'distance_from_bad_words', 'typos',\n",
      "       'shortened', 'Domain_Name', 'Registrar', 'Registrant_Name',\n",
      "       'Creation_Date_Time', 'Emails', 'Domain_Age', 'Organization', 'State',\n",
      "       'Country', 'Name_Server_Count'],\n",
      "      dtype='object')\n"
     ]
    }
   ],
   "source": [
    "#La Class ne doit pas faire partir des features important car c'est la cible\n",
    "\n",
    "# Imprimer les noms des colonnes pour déboguer\n",
    "print(X_combined.columns)\n",
    "\n",
    "# Supprimer les colonnes de classe s'il y en a\n",
    "# class_columns_to_drop = ['Class_1', 'Class_2', 'Class_3']\n",
    "\n",
    "class_columns_to_drop = ['Class']\n",
    "\n",
    "existing_class_columns = set(class_columns_to_drop).intersection(X_combined.columns)\n",
    "\n",
    "if existing_class_columns:\n",
    "    X_combined = X_combined.drop(existing_class_columns, axis=1)\n",
    "\n",
    "# Imprimer à nouveau les noms des colonnes pour vérifier\n",
    "print(X_combined.columns)\n"
   ]
  },
  {
   "cell_type": "code",
   "execution_count": 15,
   "metadata": {},
   "outputs": [
    {
     "name": "stdout",
     "output_type": "stream",
     "text": [
      "Fitting estimator with 33 features.\n",
      "Fitting estimator with 32 features.\n",
      "Fitting estimator with 31 features.\n",
      "Fitting estimator with 30 features.\n",
      "Fitting estimator with 29 features.\n",
      "Fitting estimator with 28 features.\n",
      "Fitting estimator with 27 features.\n",
      "Fitting estimator with 26 features.\n",
      "Fitting estimator with 25 features.\n",
      "Fitting estimator with 24 features.\n",
      "Fitting estimator with 23 features.\n",
      "Fitting estimator with 22 features.\n",
      "Fitting estimator with 21 features.\n",
      "Fitting estimator with 20 features.\n",
      "Fitting estimator with 19 features.\n",
      "Fitting estimator with 18 features.\n",
      "Fitting estimator with 17 features.\n",
      "Fitting estimator with 16 features.\n",
      "Fitting estimator with 15 features.\n",
      "Fitting estimator with 14 features.\n",
      "Fitting estimator with 13 features.\n",
      "Fitting estimator with 12 features.\n",
      "Fitting estimator with 11 features.\n",
      "Fitting estimator with 10 features.\n",
      "Fitting estimator with 9 features.\n"
     ]
    },
    {
     "data": {
      "text/html": [
       "<style>#sk-container-id-1 {color: black;background-color: white;}#sk-container-id-1 pre{padding: 0;}#sk-container-id-1 div.sk-toggleable {background-color: white;}#sk-container-id-1 label.sk-toggleable__label {cursor: pointer;display: block;width: 100%;margin-bottom: 0;padding: 0.3em;box-sizing: border-box;text-align: center;}#sk-container-id-1 label.sk-toggleable__label-arrow:before {content: \"▸\";float: left;margin-right: 0.25em;color: #696969;}#sk-container-id-1 label.sk-toggleable__label-arrow:hover:before {color: black;}#sk-container-id-1 div.sk-estimator:hover label.sk-toggleable__label-arrow:before {color: black;}#sk-container-id-1 div.sk-toggleable__content {max-height: 0;max-width: 0;overflow: hidden;text-align: left;background-color: #f0f8ff;}#sk-container-id-1 div.sk-toggleable__content pre {margin: 0.2em;color: black;border-radius: 0.25em;background-color: #f0f8ff;}#sk-container-id-1 input.sk-toggleable__control:checked~div.sk-toggleable__content {max-height: 200px;max-width: 100%;overflow: auto;}#sk-container-id-1 input.sk-toggleable__control:checked~label.sk-toggleable__label-arrow:before {content: \"▾\";}#sk-container-id-1 div.sk-estimator input.sk-toggleable__control:checked~label.sk-toggleable__label {background-color: #d4ebff;}#sk-container-id-1 div.sk-label input.sk-toggleable__control:checked~label.sk-toggleable__label {background-color: #d4ebff;}#sk-container-id-1 input.sk-hidden--visually {border: 0;clip: rect(1px 1px 1px 1px);clip: rect(1px, 1px, 1px, 1px);height: 1px;margin: -1px;overflow: hidden;padding: 0;position: absolute;width: 1px;}#sk-container-id-1 div.sk-estimator {font-family: monospace;background-color: #f0f8ff;border: 1px dotted black;border-radius: 0.25em;box-sizing: border-box;margin-bottom: 0.5em;}#sk-container-id-1 div.sk-estimator:hover {background-color: #d4ebff;}#sk-container-id-1 div.sk-parallel-item::after {content: \"\";width: 100%;border-bottom: 1px solid gray;flex-grow: 1;}#sk-container-id-1 div.sk-label:hover label.sk-toggleable__label {background-color: #d4ebff;}#sk-container-id-1 div.sk-serial::before {content: \"\";position: absolute;border-left: 1px solid gray;box-sizing: border-box;top: 0;bottom: 0;left: 50%;z-index: 0;}#sk-container-id-1 div.sk-serial {display: flex;flex-direction: column;align-items: center;background-color: white;padding-right: 0.2em;padding-left: 0.2em;position: relative;}#sk-container-id-1 div.sk-item {position: relative;z-index: 1;}#sk-container-id-1 div.sk-parallel {display: flex;align-items: stretch;justify-content: center;background-color: white;position: relative;}#sk-container-id-1 div.sk-item::before, #sk-container-id-1 div.sk-parallel-item::before {content: \"\";position: absolute;border-left: 1px solid gray;box-sizing: border-box;top: 0;bottom: 0;left: 50%;z-index: -1;}#sk-container-id-1 div.sk-parallel-item {display: flex;flex-direction: column;z-index: 1;position: relative;background-color: white;}#sk-container-id-1 div.sk-parallel-item:first-child::after {align-self: flex-end;width: 50%;}#sk-container-id-1 div.sk-parallel-item:last-child::after {align-self: flex-start;width: 50%;}#sk-container-id-1 div.sk-parallel-item:only-child::after {width: 0;}#sk-container-id-1 div.sk-dashed-wrapped {border: 1px dashed gray;margin: 0 0.4em 0.5em 0.4em;box-sizing: border-box;padding-bottom: 0.4em;background-color: white;}#sk-container-id-1 div.sk-label label {font-family: monospace;font-weight: bold;display: inline-block;line-height: 1.2em;}#sk-container-id-1 div.sk-label-container {text-align: center;}#sk-container-id-1 div.sk-container {/* jupyter's `normalize.less` sets `[hidden] { display: none; }` but bootstrap.min.css set `[hidden] { display: none !important; }` so we also need the `!important` here to be able to override the default hidden behavior on the sphinx rendered scikit-learn.org. See: https://github.com/scikit-learn/scikit-learn/issues/21755 */display: inline-block !important;position: relative;}#sk-container-id-1 div.sk-text-repr-fallback {display: none;}</style><div id=\"sk-container-id-1\" class=\"sk-top-container\"><div class=\"sk-text-repr-fallback\"><pre>RFECV(cv=StratifiedKFold(n_splits=10, random_state=None, shuffle=False),\n",
       "      estimator=DecisionTreeClassifier(), min_features_to_select=8, n_jobs=-1,\n",
       "      verbose=1)</pre><b>In a Jupyter environment, please rerun this cell to show the HTML representation or trust the notebook. <br />On GitHub, the HTML representation is unable to render, please try loading this page with nbviewer.org.</b></div><div class=\"sk-container\" hidden><div class=\"sk-item sk-dashed-wrapped\"><div class=\"sk-label-container\"><div class=\"sk-label sk-toggleable\"><input class=\"sk-toggleable__control sk-hidden--visually\" id=\"sk-estimator-id-1\" type=\"checkbox\" ><label for=\"sk-estimator-id-1\" class=\"sk-toggleable__label sk-toggleable__label-arrow\">RFECV</label><div class=\"sk-toggleable__content\"><pre>RFECV(cv=StratifiedKFold(n_splits=10, random_state=None, shuffle=False),\n",
       "      estimator=DecisionTreeClassifier(), min_features_to_select=8, n_jobs=-1,\n",
       "      verbose=1)</pre></div></div></div><div class=\"sk-parallel\"><div class=\"sk-parallel-item\"><div class=\"sk-item\"><div class=\"sk-label-container\"><div class=\"sk-label sk-toggleable\"><input class=\"sk-toggleable__control sk-hidden--visually\" id=\"sk-estimator-id-2\" type=\"checkbox\" ><label for=\"sk-estimator-id-2\" class=\"sk-toggleable__label sk-toggleable__label-arrow\">estimator: DecisionTreeClassifier</label><div class=\"sk-toggleable__content\"><pre>DecisionTreeClassifier()</pre></div></div></div><div class=\"sk-serial\"><div class=\"sk-item\"><div class=\"sk-estimator sk-toggleable\"><input class=\"sk-toggleable__control sk-hidden--visually\" id=\"sk-estimator-id-3\" type=\"checkbox\" ><label for=\"sk-estimator-id-3\" class=\"sk-toggleable__label sk-toggleable__label-arrow\">DecisionTreeClassifier</label><div class=\"sk-toggleable__content\"><pre>DecisionTreeClassifier()</pre></div></div></div></div></div></div></div></div></div></div>"
      ],
      "text/plain": [
       "RFECV(cv=StratifiedKFold(n_splits=10, random_state=None, shuffle=False),\n",
       "      estimator=DecisionTreeClassifier(), min_features_to_select=8, n_jobs=-1,\n",
       "      verbose=1)"
      ]
     },
     "execution_count": 15,
     "metadata": {},
     "output_type": "execute_result"
    }
   ],
   "source": [
    "from sklearn.model_selection import StratifiedKFold #Pour effectuer une validation croisée stratifiée.\n",
    "from sklearn.feature_selection import RFECV #La classe qui effectue la sélection de caractéristiques\n",
    "\n",
    "# Modèle pour la sélection de fonctionnalités\n",
    "estimator = DecisionTreeClassifier()\n",
    "\n",
    "#je choisi le nombre de parametre\n",
    "num_features_to_select = 8\n",
    "rfe_cv = RFECV(estimator, step=1, cv=StratifiedKFold(10), verbose=1,n_jobs=-1, min_features_to_select=num_features_to_select)\n",
    "\n",
    "\n",
    "# Créer une instance de RFECV\n",
    "# rfe_cv = RFECV(estimator=estimator, step=1, cv=StratifiedKFold(10), verbose=1, n_jobs=-1)\n",
    "\n",
    "# Ajuster RFECV sur les données\n",
    "rfe_cv.fit(X_combined, y)"
   ]
  },
  {
   "cell_type": "code",
   "execution_count": null,
   "metadata": {},
   "outputs": [],
   "source": [
    "#ne pas executer cette section\n",
    "\n",
    "# Créer une instance de RFECV avec un nombre fixe de caractéristiques à sélectionner (20 dans cet exemple)\n",
    "num_features_to_select = 20\n",
    "rfe_cv = RFECV(estimator=DecisionTreeClassifier(), step=1, cv=StratifiedKFold(10), verbose=1, n_jobs=-1, min_features_to_select=num_features_to_select)\n",
    "\n",
    "\n",
    "# Créer une instance de RFECV avec un nombre fixe de caractéristiques à sélectionner (15 dans cet exemple)\n",
    "num_features_to_select = 15\n",
    "rfe_cv = RFECV(estimator=DecisionTreeClassifier(), step=1, cv=StratifiedKFold(10), verbose=1, n_jobs=-1, n_features_to_select=num_features_to_select)\n"
   ]
  },
  {
   "cell_type": "code",
   "execution_count": 18,
   "metadata": {},
   "outputs": [
    {
     "name": "stdout",
     "output_type": "stream",
     "text": [
      "Caractéristiques importantes (RFECV):\n",
      "['subdomain', 'entropy', 'Alexa_Rank', 'sld', 'char_distribution', '2gram', 'shortened', 'Domain_Name']\n"
     ]
    }
   ],
   "source": [
    "# Afficher les caractéristiques sélectionnées\n",
    "selected_features = list(X_combined.columns[rfe_cv.support_])\n",
    "print(\"Caractéristiques importantes (RFECV):\")\n",
    "print(selected_features)"
   ]
  },
  {
   "cell_type": "code",
   "execution_count": 19,
   "metadata": {},
   "outputs": [
    {
     "name": "stdout",
     "output_type": "stream",
     "text": [
      "Caractéristiques importantes (RFECV):\n",
      "subdomain: 0\n",
      "entropy: 3\n",
      "Alexa_Rank: 11\n",
      "sld: 14\n",
      "char_distribution: 15\n",
      "2gram: 17\n",
      "shortened: 22\n",
      "Domain_Name: 23\n"
     ]
    }
   ],
   "source": [
    "import numpy as np\n",
    "\n",
    "#j'utilise rfe_cv.support_ pour obtenir le masque booléen des caractéristiques sélectionnées par l'algorithme RFECV. Ensuite, vous utilisez X_combined.columns[rfe_cv.support_] pour sélectionner les colonnes correspondantes et les convertir en une liste de noms de caractéristiques.\n",
    "\n",
    "# Afficher les caractéristiques sélectionnées avec leurs indices\n",
    "selected_features_with_indices = list(zip(X_combined.columns[rfe_cv.support_], np.where(rfe_cv.support_)[0]))\n",
    "print(\"Caractéristiques importantes (RFECV):\")\n",
    "for name, index in selected_features_with_indices:\n",
    "    print(f\"{name}: {index}\")"
   ]
  },
  {
   "cell_type": "code",
   "execution_count": 20,
   "metadata": {},
   "outputs": [
    {
     "name": "stdout",
     "output_type": "stream",
     "text": [
      "Caractéristiques importantes (RFECV):\n",
      "subdomain (Index 0): Numerical\n",
      "entropy (Index 3): Numerical\n",
      "Alexa_Rank (Index 11): Numerical\n",
      "sld (Index 14): Categorical\n",
      "char_distribution (Index 15): Categorical\n",
      "2gram (Index 17): Categorical\n",
      "shortened (Index 22): Categorical\n",
      "Domain_Name (Index 23): Categorical\n"
     ]
    }
   ],
   "source": [
    "# Créer un dictionnaire indiquant le type de chaque colonne\n",
    "column_types = {}\n",
    "for column in X_numerical_imputed.columns:\n",
    "    column_types[column] = 'Numerical'\n",
    "\n",
    "for column in X_categorical_reduced_df.columns:\n",
    "    column_types[column] = 'Categorical'\n",
    "\n",
    "# Afficher les caractéristiques sélectionnées avec leurs indices et types\n",
    "selected_features_with_indices_and_types = [(name, index, column_types[name]) for name, index in selected_features_with_indices]\n",
    "\n",
    "print(\"Caractéristiques importantes (RFECV):\")\n",
    "for name, index, feature_type in selected_features_with_indices_and_types:\n",
    "    print(f\"{name} (Index {index}): {feature_type}\")\n"
   ]
  },
  {
   "cell_type": "code",
   "execution_count": 22,
   "metadata": {},
   "outputs": [
    {
     "name": "stdout",
     "output_type": "stream",
     "text": [
      "Caractéristiques importantes (RFECV):\n",
      "[(0, 'subdomain'), (3, 'entropy'), (11, 'Alexa_Rank'), (14, 'sld'), (15, 'char_distribution'), (17, '2gram'), (22, 'shortened'), (23, 'Domain_Name')]\n"
     ]
    }
   ],
   "source": [
    "# a ne pas executer \n",
    "\n",
    "# Obtenir les indices des colonnes sélectionnées [[cas ou je ne definie pas le nombre d'element a selectionner donc l'algorithme se chager de le faire]]\n",
    "\n",
    "#Pour obtenir la meme chose que plus haut ie 8 caracteristique il faut remplacer le get_support(...) par [[rfe_cv.get_support(indices=True)]]\n",
    "\n",
    "# selector n'es pas definie dans la methode de selection des caracteristiqued mais plutot dans la section de diminution des features plus haut suivant le threshold\n",
    "\n",
    "# donc ces deux chose different\n",
    "\n",
    "# selected_columns_indices = selector.get_support(indices=True)\n",
    "selected_columns_indices = rfe_cv.get_support(indices=True)\n",
    "\n",
    "\n",
    "# Obtenir les noms des colonnes sélectionnées\n",
    "selected_columns_names = X_combined.columns[selected_columns_indices]\n",
    "\n",
    "# Afficher les caractéristiques sélectionnées avec leurs noms\n",
    "selected_features_with_names = list(zip(selected_columns_indices, selected_columns_names))\n",
    "print(\"Caractéristiques importantes (RFECV):\")\n",
    "print(selected_features_with_names)"
   ]
  },
  {
   "cell_type": "code",
   "execution_count": 23,
   "metadata": {},
   "outputs": [
    {
     "name": "stdout",
     "output_type": "stream",
     "text": [
      "Caractéristiques importantes (RFECV):\n",
      "subdomain: Numerical\n",
      "entropy: Numerical\n",
      "Alexa_Rank: Numerical\n",
      "sld: Categorical\n",
      "char_distribution: Categorical\n",
      "2gram: Categorical\n",
      "shortened: Categorical\n",
      "Domain_Name: Categorical\n"
     ]
    }
   ],
   "source": [
    "## a ne pas executer   [[cas ou je ne definie pas le nombre d'element a selectionner donc l'algorithme se chager de le faire]]\n",
    "\n",
    "# Afficher les caractéristiques sélectionnées avec leurs noms et types\n",
    "selected_features_with_names_and_types = []\n",
    "\n",
    "for index, name in selected_features_with_names:\n",
    "    # Obtenir le type de la caractéristique\n",
    "    feature_type = \"Categorical\" if name in original_categorical_columns else \"Numerical\"\n",
    "    \n",
    "    # Ajouter à la liste\n",
    "    selected_features_with_names_and_types.append((name, feature_type))\n",
    "\n",
    "print(\"Caractéristiques importantes (RFECV):\")\n",
    "for name, feature_type in selected_features_with_names_and_types:\n",
    "    print(f\"{name}: {feature_type}\")"
   ]
  },
  {
   "cell_type": "code",
   "execution_count": 24,
   "metadata": {},
   "outputs": [
    {
     "data": {
      "image/png": "[encoded data removed]",
      "text/plain": [
       "<Figure size 1000x500 with 1 Axes>"
      ]
     },
     "metadata": {},
     "output_type": "display_data"
    }
   ],
   "source": [
    "import matplotlib.pyplot as plt\n",
    "import numpy as np\n",
    "\n",
    "# Affichage des résultats\n",
    "plt.figure(figsize=(10, 5))\n",
    "plt.bar(selected_columns_names, np.ones(len(selected_columns_names)))\n",
    "plt.title(\"Features Importance (RFECV)\")\n",
    "plt.xlabel(\"Caractéristiques\")\n",
    "plt.ylabel(\"Importance\")\n",
    "plt.show()"
   ]
  },
  {
   "cell_type": "markdown",
   "metadata": {},
   "source": []
  }
 ],
 "metadata": {
  "kernelspec": {
   "display_name": "Python 3",
   "language": "python",
   "name": "python3"
  },
  "language_info": {
   "codemirror_mode": {
    "name": "ipython",
    "version": 3
   },
   "file_extension": ".py",
   "mimetype": "text/x-python",
   "name": "python",
   "nbconvert_exporter": "python",
   "pygments_lexer": "ipython3",
   "version": "3.10.0"
  }
 },
 "nbformat": 4,
 "nbformat_minor": 2
}
