{
 "cells": [
  {
   "cell_type": "code",
   "execution_count": 2,
   "metadata": {},
   "outputs": [],
   "source": [
    "import pandas as pd\n",
    "\n",
    "\n",
    "\n",
    "# Chargement des fichiers CSV\n",
    "benin_data = pd.read_csv(\"../../data/dataBell_DNS Dataset/features_domain_benign_csv.csv\")\n",
    "malware_data = pd.read_csv(\"../../data/Bell_DNS Dataset/features-domain_Malware.csv\")\n",
    "phishing_data = pd.read_csv(\"../../data/Bell_DNS Dataset/features-domain_phishing.csv\")\n",
    "spam_data = pd.read_csv(\"../../data/dataBell_DNS Dataset/features-domain_Spam.csv\")\n",
    "\n",
    "# Ajout de la colonne 'Class' \n",
    "benin_data['Class'] = 'Benin'\n",
    "malware_data['Class'] = 'Malware'\n",
    "phishing_data['Class'] = 'Phishing'\n",
    "spam_data['Class'] = 'Spam'\n",
    "\n",
    "\n",
    "# Concaténation de tous les ensembles de données\n",
    "all_data = pd.concat([benin_data, malware_data, phishing_data, spam_data], ignore_index=True)\n"
   ]
  },
  {
   "cell_type": "code",
   "execution_count": 3,
   "metadata": {},
   "outputs": [
    {
     "name": "stdout",
     "output_type": "stream",
     "text": [
      "subdomain                  float64\n",
      "tld                         object\n",
      "sld                         object\n",
      "len                          int64\n",
      "numeric_percentage         float64\n",
      "char_distribution           object\n",
      "entropy                    float64\n",
      "1gram                       object\n",
      "2gram                       object\n",
      "3gram                       object\n",
      "longest_word                object\n",
      "distance_from_bad_words     object\n",
      "typos                       object\n",
      "obfuscate_at_sign           object\n",
      "dec_8                        int64\n",
      "dec_32                       int64\n",
      "oc_8                         int64\n",
      "oc_32                        int64\n",
      "hex_8                        int64\n",
      "hex_32                       int64\n",
      "puny_coded                   int64\n",
      "shortened                   object\n",
      "Domain_Name                 object\n",
      "Registrar                   object\n",
      "Registrant_Name             object\n",
      "Creation_Date_Time          object\n",
      "Emails                      object\n",
      "Domain_Age                  object\n",
      "Organization                object\n",
      "State                       object\n",
      "Country                     object\n",
      "Name_Server_Count           object\n",
      "Alexa_Rank                 float64\n",
      "Page_Rank                  float64\n",
      "Class                       object\n",
      "Unnamed: 34                 object\n",
      "dtype: object\n"
     ]
    }
   ],
   "source": [
    "# Convertir toutes les colonnes catégorielles en chaînes de caractères\n",
    "\n",
    "\n",
    "\n",
    "#all_data = all_data.astype(str)  #### Pas besoin d'executer\n",
    "\n",
    "print(all_data.dtypes)\n"
   ]
  },
  {
   "cell_type": "code",
   "execution_count": 4,
   "metadata": {},
   "outputs": [
    {
     "name": "stdout",
     "output_type": "stream",
     "text": [
      "['Benin' 'Malware' 'Phishing' 'Spam']\n"
     ]
    }
   ],
   "source": [
    "print(all_data['Class'].unique())\n"
   ]
  },
  {
   "cell_type": "code",
   "execution_count": 5,
   "metadata": {},
   "outputs": [
    {
     "name": "stdout",
     "output_type": "stream",
     "text": [
      "<class 'pandas.core.frame.DataFrame'>\n",
      "RangeIndex: 50159 entries, 0 to 50158\n",
      "Data columns (total 36 columns):\n",
      " #   Column                   Non-Null Count  Dtype  \n",
      "---  ------                   --------------  -----  \n",
      " 0   subdomain                50150 non-null  float64\n",
      " 1   tld                      50150 non-null  object \n",
      " 2   sld                      50142 non-null  object \n",
      " 3   len                      50159 non-null  int64  \n",
      " 4   numeric_percentage       50159 non-null  float64\n",
      " 5   char_distribution        50159 non-null  object \n",
      " 6   entropy                  50159 non-null  float64\n",
      " 7   1gram                    50159 non-null  object \n",
      " 8   2gram                    50159 non-null  object \n",
      " 9   3gram                    50159 non-null  object \n",
      " 10  longest_word             50138 non-null  object \n",
      " 11  distance_from_bad_words  50159 non-null  object \n",
      " 12  typos                    50159 non-null  object \n",
      " 13  obfuscate_at_sign        50159 non-null  object \n",
      " 14  dec_8                    50159 non-null  int64  \n",
      " 15  dec_32                   50159 non-null  int64  \n",
      " 16  oc_8                     50159 non-null  int64  \n",
      " 17  oc_32                    50159 non-null  int64  \n",
      " 18  hex_8                    50159 non-null  int64  \n",
      " 19  hex_32                   50159 non-null  int64  \n",
      " 20  puny_coded               50159 non-null  int64  \n",
      " 21  shortened                49969 non-null  object \n",
      " 22  Domain_Name              43980 non-null  object \n",
      " 23  Registrar                40075 non-null  object \n",
      " 24  Registrant_Name          1369 non-null   object \n",
      " 25  Creation_Date_Time       40589 non-null  object \n",
      " 26  Emails                   37584 non-null  object \n",
      " 27  Domain_Age               47183 non-null  object \n",
      " 28  Organization             28335 non-null  object \n",
      " 29  State                    29814 non-null  object \n",
      " 30  Country                  33023 non-null  object \n",
      " 31  Name_Server_Count        47183 non-null  object \n",
      " 32  Alexa_Rank               47183 non-null  float64\n",
      " 33  Page_Rank                30625 non-null  float64\n",
      " 34  Class                    50159 non-null  object \n",
      " 35  Unnamed: 34              9 non-null      object \n",
      "dtypes: float64(5), int64(8), object(23)\n",
      "memory usage: 13.8+ MB\n",
      "None\n"
     ]
    }
   ],
   "source": [
    "print(all_data.info())\n"
   ]
  },
  {
   "cell_type": "code",
   "execution_count": 86,
   "metadata": {},
   "outputs": [],
   "source": [
    "################################ encodage manuelle et mapping ###################  a ne pas executer \n",
    "\n",
    "#ne pas executer cette section\n",
    "\n",
    "# Créer une colonne 'Class' avec des valeurs numériques au lieu de catégoriques\n",
    "class_mapping = {'Benin': 0, 'Malware': 1, 'Phishing': 2, 'Spam': 3}\n",
    "all_data['Class'] = all_data['Class'].map(class_mapping)"
   ]
  },
  {
   "cell_type": "code",
   "execution_count": 6,
   "metadata": {},
   "outputs": [],
   "source": [
    "from sklearn.preprocessing import LabelEncoder\n",
    "\n",
    "label_encoder = LabelEncoder()\n",
    "all_data['Class'] = label_encoder.fit_transform(all_data['Class'])"
   ]
  },
  {
   "cell_type": "code",
   "execution_count": 7,
   "metadata": {},
   "outputs": [
    {
     "name": "stdout",
     "output_type": "stream",
     "text": [
      "[0 1 2 3]\n"
     ]
    }
   ],
   "source": [
    "print(all_data['Class'].unique())\n"
   ]
  },
  {
   "cell_type": "code",
   "execution_count": 8,
   "metadata": {},
   "outputs": [
    {
     "name": "stdout",
     "output_type": "stream",
     "text": [
      "['Benin']\n",
      "['Malware']\n",
      "['Phishing']\n",
      "['Spam']\n"
     ]
    }
   ],
   "source": [
    "print(benin_data['Class'].unique())\n",
    "print(malware_data['Class'].unique())\n",
    "print(phishing_data['Class'].unique())\n",
    "print(spam_data['Class'].unique())\n"
   ]
  },
  {
   "cell_type": "code",
   "execution_count": 9,
   "metadata": {},
   "outputs": [
    {
     "name": "stdout",
     "output_type": "stream",
     "text": [
      "Class\n",
      "0    24249\n",
      "2    12702\n",
      "1     8871\n",
      "3     4337\n",
      "Name: count, dtype: int64\n"
     ]
    }
   ],
   "source": [
    "print(all_data['Class'].value_counts())\n"
   ]
  },
  {
   "cell_type": "code",
   "execution_count": 90,
   "metadata": {},
   "outputs": [
    {
     "name": "stdout",
     "output_type": "stream",
     "text": [
      "<class 'pandas.core.frame.DataFrame'>\n",
      "RangeIndex: 50159 entries, 0 to 50158\n",
      "Data columns (total 36 columns):\n",
      " #   Column                   Non-Null Count  Dtype \n",
      "---  ------                   --------------  ----- \n",
      " 0   subdomain                50159 non-null  object\n",
      " 1   tld                      50159 non-null  object\n",
      " 2   sld                      50159 non-null  object\n",
      " 3   len                      50159 non-null  object\n",
      " 4   numeric_percentage       50159 non-null  object\n",
      " 5   char_distribution        50159 non-null  object\n",
      " 6   entropy                  50159 non-null  object\n",
      " 7   1gram                    50159 non-null  object\n",
      " 8   2gram                    50159 non-null  object\n",
      " 9   3gram                    50159 non-null  object\n",
      " 10  longest_word             50159 non-null  object\n",
      " 11  distance_from_bad_words  50159 non-null  object\n",
      " 12  typos                    50159 non-null  object\n",
      " 13  obfuscate_at_sign        50159 non-null  object\n",
      " 14  dec_8                    50159 non-null  object\n",
      " 15  dec_32                   50159 non-null  object\n",
      " 16  oc_8                     50159 non-null  object\n",
      " 17  oc_32                    50159 non-null  object\n",
      " 18  hex_8                    50159 non-null  object\n",
      " 19  hex_32                   50159 non-null  object\n",
      " 20  puny_coded               50159 non-null  object\n",
      " 21  shortened                50159 non-null  object\n",
      " 22  Domain_Name              50159 non-null  object\n",
      " 23  Registrar                50159 non-null  object\n",
      " 24  Registrant_Name          50159 non-null  object\n",
      " 25  Creation_Date_Time       50159 non-null  object\n",
      " 26  Emails                   50159 non-null  object\n",
      " 27  Domain_Age               50159 non-null  object\n",
      " 28  Organization             50159 non-null  object\n",
      " 29  State                    50159 non-null  object\n",
      " 30  Country                  50159 non-null  object\n",
      " 31  Name_Server_Count        50159 non-null  object\n",
      " 32  Alexa_Rank               50159 non-null  object\n",
      " 33  Page_Rank                50159 non-null  object\n",
      " 34  Class                    50159 non-null  int64 \n",
      " 35  Unnamed: 34              50159 non-null  object\n",
      "dtypes: int64(1), object(35)\n",
      "memory usage: 13.8+ MB\n",
      "None\n"
     ]
    }
   ],
   "source": [
    "print(all_data.info())\n",
    "\n",
    "# print(all_data['Class'])"
   ]
  },
  {
   "cell_type": "code",
   "execution_count": 10,
   "metadata": {},
   "outputs": [],
   "source": [
    "# Sélectionner la colonne 'Class' avant l'encodage\n",
    "y = all_data['Class']"
   ]
  },
  {
   "cell_type": "code",
   "execution_count": 69,
   "metadata": {},
   "outputs": [
    {
     "name": "stdout",
     "output_type": "stream",
     "text": [
      "0        0\n",
      "1        0\n",
      "2        0\n",
      "3        0\n",
      "4        0\n",
      "        ..\n",
      "50154    3\n",
      "50155    3\n",
      "50156    3\n",
      "50157    3\n",
      "50158    3\n",
      "Name: Class, Length: 50159, dtype: int32\n"
     ]
    }
   ],
   "source": [
    "print(y)"
   ]
  },
  {
   "cell_type": "code",
   "execution_count": 91,
   "metadata": {},
   "outputs": [
    {
     "name": "stdout",
     "output_type": "stream",
     "text": [
      "<class 'pandas.core.frame.DataFrame'>\n",
      "RangeIndex: 50159 entries, 0 to 50158\n",
      "Data columns (total 36 columns):\n",
      " #   Column                   Non-Null Count  Dtype \n",
      "---  ------                   --------------  ----- \n",
      " 0   subdomain                50159 non-null  object\n",
      " 1   tld                      50159 non-null  object\n",
      " 2   sld                      50159 non-null  object\n",
      " 3   len                      50159 non-null  object\n",
      " 4   numeric_percentage       50159 non-null  object\n",
      " 5   char_distribution        50159 non-null  object\n",
      " 6   entropy                  50159 non-null  object\n",
      " 7   1gram                    50159 non-null  object\n",
      " 8   2gram                    50159 non-null  object\n",
      " 9   3gram                    50159 non-null  object\n",
      " 10  longest_word             50159 non-null  object\n",
      " 11  distance_from_bad_words  50159 non-null  object\n",
      " 12  typos                    50159 non-null  object\n",
      " 13  obfuscate_at_sign        50159 non-null  object\n",
      " 14  dec_8                    50159 non-null  object\n",
      " 15  dec_32                   50159 non-null  object\n",
      " 16  oc_8                     50159 non-null  object\n",
      " 17  oc_32                    50159 non-null  object\n",
      " 18  hex_8                    50159 non-null  object\n",
      " 19  hex_32                   50159 non-null  object\n",
      " 20  puny_coded               50159 non-null  object\n",
      " 21  shortened                50159 non-null  object\n",
      " 22  Domain_Name              50159 non-null  object\n",
      " 23  Registrar                50159 non-null  object\n",
      " 24  Registrant_Name          50159 non-null  object\n",
      " 25  Creation_Date_Time       50159 non-null  object\n",
      " 26  Emails                   50159 non-null  object\n",
      " 27  Domain_Age               50159 non-null  object\n",
      " 28  Organization             50159 non-null  object\n",
      " 29  State                    50159 non-null  object\n",
      " 30  Country                  50159 non-null  object\n",
      " 31  Name_Server_Count        50159 non-null  object\n",
      " 32  Alexa_Rank               50159 non-null  object\n",
      " 33  Page_Rank                50159 non-null  object\n",
      " 34  Class                    50159 non-null  int64 \n",
      " 35  Unnamed: 34              50159 non-null  object\n",
      "dtypes: int64(1), object(35)\n",
      "memory usage: 13.8+ MB\n",
      "None\n"
     ]
    }
   ],
   "source": [
    "print(all_data.info())"
   ]
  },
  {
   "cell_type": "code",
   "execution_count": 92,
   "metadata": {},
   "outputs": [
    {
     "name": "stdout",
     "output_type": "stream",
     "text": [
      "(50159, 36)\n"
     ]
    }
   ],
   "source": [
    "print(all_data.shape)\n"
   ]
  },
  {
   "cell_type": "code",
   "execution_count": null,
   "metadata": {},
   "outputs": [],
   "source": [
    "print(\"Benin Data Info:\")\n",
    "print(benin_data.info())"
   ]
  },
  {
   "cell_type": "code",
   "execution_count": null,
   "metadata": {},
   "outputs": [],
   "source": [
    "print(\"Malware Data Info:\")\n",
    "print(malware_data.info())"
   ]
  },
  {
   "cell_type": "code",
   "execution_count": null,
   "metadata": {},
   "outputs": [],
   "source": [
    "print(\"Phishing Data Info:\")\n",
    "print(phishing_data.info())"
   ]
  },
  {
   "cell_type": "code",
   "execution_count": null,
   "metadata": {},
   "outputs": [],
   "source": [
    "print(\"Spam  Data Info:\")\n",
    "print(spam_data.info())"
   ]
  },
  {
   "cell_type": "code",
   "execution_count": 93,
   "metadata": {},
   "outputs": [],
   "source": [
    "####################################### Ne pas executer cette section ###############\n",
    "\n",
    "\n",
    "# Séparer les caractéristiques numériques et catégorielles\n",
    "\n",
    "X_numerical = all_data.select_dtypes(include='number')\n",
    "X_categorical = all_data.select_dtypes(exclude='number')"
   ]
  },
  {
   "cell_type": "code",
   "execution_count": 17,
   "metadata": {},
   "outputs": [],
   "source": [
    "# Séparer les caractéristiques numériques et catégorielles\n",
    "\n",
    "#X_numerical = all_data.select_dtypes(include='number') ########### jai du mal a comprendre comment il fonctionne lui\n",
    "\n",
    "X_numerical = all_data.select_dtypes(include=['int64', 'float64'])\n",
    "\n",
    "X_categorical = all_data.select_dtypes(exclude='number')"
   ]
  },
  {
   "cell_type": "code",
   "execution_count": 12,
   "metadata": {},
   "outputs": [],
   "source": [
    "######################## Ne pas executer ca ###############################\n",
    "###########################################################################\n",
    "\n",
    "\n",
    "from sklearn.impute import SimpleImputer\n",
    "\n",
    "# Imputer les valeurs manquantes pour les caractéristiques numériques\n",
    "\n",
    "# Imputer les valeurs manquantes pour les caractéristiques numériques\n",
    "numerical_imputer = SimpleImputer(strategy='mean')\n",
    "X_numerical_imputed = pd.DataFrame(numerical_imputer.fit_transform(X_numerical), columns=X_numerical.columns)\n"
   ]
  },
  {
   "cell_type": "code",
   "execution_count": 27,
   "metadata": {},
   "outputs": [
    {
     "name": "stdout",
     "output_type": "stream",
     "text": [
      "(50159, 13)\n"
     ]
    }
   ],
   "source": [
    "print(X_numerical_imputed.shape)"
   ]
  },
  {
   "cell_type": "code",
   "execution_count": 13,
   "metadata": {},
   "outputs": [
    {
     "name": "stdout",
     "output_type": "stream",
     "text": [
      "[[0.00000000e+00 3.89610390e-02 0.00000000e+00 ... 0.00000000e+00\n",
      "  1.63603505e-07 0.00000000e+00]\n",
      " [0.00000000e+00 3.89610390e-02 0.00000000e+00 ... 0.00000000e+00\n",
      "  1.63603505e-07 0.00000000e+00]\n",
      " [1.00000000e+00 5.84415584e-02 0.00000000e+00 ... 0.00000000e+00\n",
      "  1.63603505e-07 0.00000000e+00]\n",
      " ...\n",
      " [0.00000000e+00 7.79220779e-02 1.23188406e-01 ... 1.00000000e+00\n",
      "  0.00000000e+00 0.00000000e+00]\n",
      " [0.00000000e+00 7.14285714e-02 6.43939394e-02 ... 1.00000000e+00\n",
      "  0.00000000e+00 0.00000000e+00]\n",
      " [0.00000000e+00 1.42857143e-01 0.00000000e+00 ... 0.00000000e+00\n",
      "  0.00000000e+00 0.00000000e+00]]\n",
      "Après transformation\n",
      "       subdomain       len  numeric_percentage   entropy  dec_8  dec_32  oc_8   \n",
      "0            0.0  0.038961            0.000000  0.384930    0.0     0.0   0.0  \\\n",
      "1            0.0  0.038961            0.000000  0.384930    0.0     0.0   0.0   \n",
      "2            1.0  0.058442            0.000000  0.443538    0.0     0.0   0.0   \n",
      "3            1.0  0.058442            0.000000  0.443538    0.0     0.0   0.0   \n",
      "4            0.0  0.051948            0.000000  0.544495    0.0     0.0   0.0   \n",
      "...          ...       ...                 ...       ...    ...     ...   ...   \n",
      "50154        0.0  0.084416            0.118056  0.651767    0.0     0.0   0.0   \n",
      "50155        0.0  0.090909            0.113333  0.709024    0.0     0.0   0.0   \n",
      "50156        0.0  0.077922            0.123188  0.652033    0.0     0.0   0.0   \n",
      "50157        0.0  0.071429            0.064394  0.619471    0.0     0.0   0.0   \n",
      "50158        0.0  0.142857            0.000000  0.718409    0.0     0.0   0.0   \n",
      "\n",
      "       oc_32  hex_8  hex_32  puny_coded    Alexa_Rank  Page_Rank  \n",
      "0        0.0    0.0     0.0         0.0  1.636035e-07        0.0  \n",
      "1        0.0    0.0     0.0         0.0  1.636035e-07        0.0  \n",
      "2        0.0    0.0     0.0         0.0  1.636035e-07        0.0  \n",
      "3        0.0    0.0     0.0         0.0  1.636035e-07        0.0  \n",
      "4        0.0    0.0     0.0         0.0  6.544140e-07        0.0  \n",
      "...      ...    ...     ...         ...           ...        ...  \n",
      "50154    0.0    0.0     0.0         1.0  0.000000e+00        0.0  \n",
      "50155    0.0    0.0     0.0         1.0  0.000000e+00        0.0  \n",
      "50156    0.0    0.0     0.0         1.0  0.000000e+00        0.0  \n",
      "50157    0.0    0.0     0.0         1.0  0.000000e+00        0.0  \n",
      "50158    0.0    0.0     0.0         0.0  0.000000e+00        0.0  \n",
      "\n",
      "[50159 rows x 13 columns]\n",
      "Taille totale des caractéristiques numériques après transformations : (50159, 13)\n"
     ]
    }
   ],
   "source": [
    "from sklearn.impute import SimpleImputer\n",
    "from sklearn.preprocessing import MinMaxScaler\n",
    "\n",
    "# 2. Vérification des colonnes vides\n",
    "if X_numerical.isnull().any().any():\n",
    "    # Imputer les valeurs manquantes pour les caractéristiques numériques\n",
    "    numerical_imputer = SimpleImputer(strategy='mean')\n",
    "    X_numerical_imputed = pd.DataFrame(numerical_imputer.fit_transform(X_numerical), columns=X_numerical.columns)\n",
    "\n",
    "    #prepocessing des features numeriques soit  avec le  LabelEncoder soit le MinMaxScaler()\n",
    "\n",
    "    # Création d'un scaler\n",
    "    scaler = MinMaxScaler()\n",
    "\n",
    "    # Ajustement du scaler aux données\n",
    "    scaler.fit(X_numerical_imputed)\n",
    "\n",
    "    # Transformation des fonctionnalités numériques\n",
    "    scaled_numeric_features = scaler.transform(X_numerical_imputed)\n",
    "\n",
    "\n",
    "    print(scaled_numeric_features)\n",
    "\n",
    "    # Apres transformation Création d' un DataFrame à partir des valeurs transformées\n",
    "\n",
    "    scaled_df = pd.DataFrame(scaled_numeric_features, columns=X_numerical_imputed.columns)\n",
    "\n",
    "    # Afficher le DataFrame avec les valeurs transformées\n",
    "    print(\"Après transformation\")\n",
    "    print(scaled_df)\n",
    "\n",
    "    total_size = scaled_df.shape\n",
    "    print(\"Taille totale des caractéristiques numériques après transformations :\", total_size)\n",
    "else:\n",
    "    print(\"Pas de valeurs manquantes dans les caractéristiques numériques. Aucune imputation nécessaire.\")\n"
   ]
  },
  {
   "cell_type": "code",
   "execution_count": 19,
   "metadata": {},
   "outputs": [],
   "source": [
    "# Encodage des variables catégorielles\n",
    "\n",
    "\n",
    "############# j'uniformise les donnee avant d'encoderpour eviter l'erreur  [je convertis tous en chaine]\n",
    "\n",
    "X_categorical = X_categorical.astype(str) \n",
    "\n",
    "categorical_features = X_categorical.columns\n",
    "label_encoder = LabelEncoder()\n",
    "X_categorical_encoded = X_categorical.apply(label_encoder.fit_transform)\n",
    "\n",
    "# Utiliser l'encodage ordinal pour transformer les données catégorielles en valeurs numériques\n",
    "\n",
    "#ordinal_encoder = OrdinalEncoder()\n",
    "#X_categorical_encoded = pd.DataFrame(ordinal_encoder.fit_transform(X_categorical), columns=X_categorical.columns)\n"
   ]
  },
  {
   "cell_type": "code",
   "execution_count": 24,
   "metadata": {},
   "outputs": [
    {
     "data": {
      "text/plain": [
       "tld                        1.169735e+04\n",
       "sld                        2.243472e+07\n",
       "char_distribution          4.580946e+07\n",
       "1gram                      2.248123e+07\n",
       "2gram                      2.249721e+07\n",
       "3gram                      2.264062e+07\n",
       "longest_word               5.984055e+06\n",
       "distance_from_bad_words    2.144865e+07\n",
       "typos                      7.225467e+05\n",
       "obfuscate_at_sign          1.794008e-04\n",
       "shortened                  9.545176e-02\n",
       "Domain_Name                2.079899e+07\n",
       "Registrar                  8.529301e+04\n",
       "Registrant_Name            1.400467e+03\n",
       "Creation_Date_Time         2.069834e+07\n",
       "Emails                     2.893755e+06\n",
       "Domain_Age                 1.853027e+08\n",
       "Organization               1.385542e+06\n",
       "State                      1.825443e+05\n",
       "Country                    3.863587e+03\n",
       "Name_Server_Count          3.435386e+02\n",
       "Unnamed: 34                1.794008e-04\n",
       "dtype: float64"
      ]
     },
     "execution_count": 24,
     "metadata": {},
     "output_type": "execute_result"
    }
   ],
   "source": [
    "X_categorical_encoded.var()\n"
   ]
  },
  {
   "cell_type": "code",
   "execution_count": 25,
   "metadata": {},
   "outputs": [
    {
     "name": "stdout",
     "output_type": "stream",
     "text": [
      "(50159, 22)\n"
     ]
    }
   ],
   "source": [
    "print(X_categorical_encoded.shape)"
   ]
  },
  {
   "cell_type": "code",
   "execution_count": 51,
   "metadata": {},
   "outputs": [],
   "source": [
    "# Imputer les valeurs manquantes pour les caractéristiques catégorielles\n",
    "\n",
    "#categorical_imputer = SimpleImputer(strategy='most_frequent')\n",
    "#all_data_categorical_imputed = pd.DataFrame(categorical_imputer.fit_transform(all_data.select_dtypes(exclude='number')), columns=all_data.select_dtypes(exclude='number').columns)"
   ]
  },
  {
   "cell_type": "code",
   "execution_count": 20,
   "metadata": {},
   "outputs": [],
   "source": [
    "from sklearn.feature_selection import VarianceThreshold\n",
    "from sklearn.preprocessing import OrdinalEncoder\n",
    "\n",
    "# Mettez à jour la sélection des colonnes originales\n",
    "\n",
    "# Réduire la dimension avec VarianceThreshold varie le Threshold [0.1-.05]\n",
    "selector = VarianceThreshold(threshold=0.2)\n",
    "X_categorical_reduced = selector.fit_transform(X_categorical_encoded)\n",
    "\n",
    "# Mettez à jour la sélection des colonnes originales\n",
    "original_categorical_columns = X_categorical.columns[selector.get_support()]\n"
   ]
  },
  {
   "cell_type": "code",
   "execution_count": 26,
   "metadata": {},
   "outputs": [
    {
     "name": "stdout",
     "output_type": "stream",
     "text": [
      "(19,)\n"
     ]
    }
   ],
   "source": [
    "print(original_categorical_columns.shape)\n"
   ]
  },
  {
   "cell_type": "code",
   "execution_count": 21,
   "metadata": {},
   "outputs": [],
   "source": [
    "# Créer un DataFrame avec les colonnes originales\n",
    "X_categorical_reduced_df = pd.DataFrame(X_categorical_reduced, columns=original_categorical_columns)\n"
   ]
  },
  {
   "cell_type": "code",
   "execution_count": 22,
   "metadata": {},
   "outputs": [],
   "source": [
    "#Concaténer les caractéristiques numériques et catégorielles\n",
    "X_combined = pd.concat([X_numerical_imputed, X_categorical_reduced_df], axis=1)"
   ]
  },
  {
   "cell_type": "code",
   "execution_count": 23,
   "metadata": {},
   "outputs": [
    {
     "name": "stdout",
     "output_type": "stream",
     "text": [
      "Nombre total de caractéristiques numeriques et categoriciel: 32\n"
     ]
    }
   ],
   "source": [
    "num_features = X_combined.shape[1]\n",
    "print(\"Nombre total de caractéristiques numeriques et categoriciel:\", num_features)\n"
   ]
  },
  {
   "cell_type": "code",
   "execution_count": 28,
   "metadata": {},
   "outputs": [
    {
     "name": "stdout",
     "output_type": "stream",
     "text": [
      "Index(['subdomain', 'len', 'numeric_percentage', 'entropy', 'dec_8', 'dec_32',\n",
      "       'oc_8', 'oc_32', 'hex_8', 'hex_32', 'puny_coded', 'Alexa_Rank',\n",
      "       'Page_Rank', 'tld', 'sld', 'char_distribution', '1gram', '2gram',\n",
      "       '3gram', 'longest_word', 'distance_from_bad_words', 'typos',\n",
      "       'Domain_Name', 'Registrar', 'Registrant_Name', 'Creation_Date_Time',\n",
      "       'Emails', 'Domain_Age', 'Organization', 'State', 'Country',\n",
      "       'Name_Server_Count'],\n",
      "      dtype='object')\n"
     ]
    }
   ],
   "source": [
    "# Imprimer les noms des colonnes pour déboguer\n",
    "print(X_combined.columns)\n"
   ]
  },
  {
   "cell_type": "code",
   "execution_count": 29,
   "metadata": {},
   "outputs": [
    {
     "name": "stdout",
     "output_type": "stream",
     "text": [
      "Index(['subdomain', 'len', 'numeric_percentage', 'entropy', 'dec_8', 'dec_32',\n",
      "       'oc_8', 'oc_32', 'hex_8', 'hex_32', 'puny_coded', 'Alexa_Rank',\n",
      "       'Page_Rank', 'tld', 'sld', 'char_distribution', '1gram', '2gram',\n",
      "       '3gram', 'longest_word', 'distance_from_bad_words', 'typos',\n",
      "       'Domain_Name', 'Registrar', 'Registrant_Name', 'Creation_Date_Time',\n",
      "       'Emails', 'Domain_Age', 'Organization', 'State', 'Country',\n",
      "       'Name_Server_Count'],\n",
      "      dtype='object')\n",
      "Index(['subdomain', 'len', 'numeric_percentage', 'entropy', 'dec_8', 'dec_32',\n",
      "       'oc_8', 'oc_32', 'hex_8', 'hex_32', 'puny_coded', 'Alexa_Rank',\n",
      "       'Page_Rank', 'tld', 'sld', 'char_distribution', '1gram', '2gram',\n",
      "       '3gram', 'longest_word', 'distance_from_bad_words', 'typos',\n",
      "       'Domain_Name', 'Registrar', 'Registrant_Name', 'Creation_Date_Time',\n",
      "       'Emails', 'Domain_Age', 'Organization', 'State', 'Country',\n",
      "       'Name_Server_Count'],\n",
      "      dtype='object')\n"
     ]
    }
   ],
   "source": [
    "#La Class ne doit pas faire partir des features important car c'est la cible\n",
    "\n",
    "\n",
    "# Imprimer les noms des colonnes pour déboguer\n",
    "print(X_combined.columns)\n",
    "\n",
    "# Supprimer les colonnes de classe s'il y en a\n",
    "# class_columns_to_drop = ['Class_0','Class_1', 'Class_2', 'Class_3']\n",
    "\n",
    "class_columns_to_drop = ['Class']\n",
    "\n",
    "existing_class_columns = set(class_columns_to_drop).intersection(X_combined.columns)\n",
    "\n",
    "if existing_class_columns:\n",
    "    X_combined = X_combined.drop(existing_class_columns, axis=1)\n",
    "\n",
    "# Imprimer à nouveau les noms des colonnes pour vérifier\n",
    "print(X_combined.columns)\n"
   ]
  },
  {
   "cell_type": "code",
   "execution_count": 30,
   "metadata": {},
   "outputs": [],
   "source": [
    "from sklearn.ensemble import ExtraTreesClassifier\n",
    "\n",
    "def feature_importance(X_combined,Y,num_features):\n",
    "    model = ExtraTreesClassifier()\n",
    "    model.fit(X_combined,Y)\n",
    "\n",
    "    feature_importances = pd.Series(model.feature_importances_ ,index=X_combined.columns )\n",
    "    return feature_importances.nlargest(num_features).axes[0].values\n"
   ]
  },
  {
   "cell_type": "code",
   "execution_count": 31,
   "metadata": {},
   "outputs": [
    {
     "name": "stdout",
     "output_type": "stream",
     "text": [
      "Features importants:\n",
      "['char_distribution' 'Creation_Date_Time' 'Domain_Age' 'entropy'\n",
      " 'subdomain' '1gram' '2gram' 'sld' 'len' 'Name_Server_Count']\n"
     ]
    }
   ],
   "source": [
    "# Appel de la fonction et impression des features importants\n",
    "\n",
    "#donc dans notre fonction il faut passer un nombre de caracteristiques inferieur ou egale a 13 avec la Methode ExtrareesClassifier sa ne derange pas mem si tu donne une valeur superieur comparer au Univariate (SelectKBest,chi2)\n",
    "\n",
    "important_features = feature_importance(X_combined, y, num_features=10)\n",
    "print(\"Features importants:\")\n",
    "print(important_features)"
   ]
  }
 ],
 "metadata": {
  "kernelspec": {
   "display_name": "Python 3",
   "language": "python",
   "name": "python3"
  },
  "language_info": {
   "codemirror_mode": {
    "name": "ipython",
    "version": 3
   },
   "file_extension": ".py",
   "mimetype": "text/x-python",
   "name": "python",
   "nbconvert_exporter": "python",
   "pygments_lexer": "ipython3",
   "version": "3.10.0"
  }
 },
 "nbformat": 4,
 "nbformat_minor": 2
}
