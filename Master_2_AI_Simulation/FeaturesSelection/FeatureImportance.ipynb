{
 "cells": [
  {
   "cell_type": "code",
   "execution_count": 3,
   "metadata": {},
   "outputs": [],
   "source": [
    "import pandas as pd\n",
    "\n",
    "\n",
    "# Chargement des fichiers CSV\n",
    "benin_data = pd.read_csv(\"../data/dataBell_DNS Dataset/features_domain_benign_csv.csv\")\n",
    "malware_data = pd.read_csv(\"../data/Bell_DNS Dataset/features-domain_Malware.csv\")\n",
    "phishing_data = pd.read_csv(\"../data/Bell_DNS Dataset/features-domain_phishing.csv\")\n",
    "spam_data = pd.read_csv(\"../data/dataBell_DNS Dataset/features-domain_Spam.csv\")\n",
    "\n",
    "# Ajout de la colonne 'Class' \n",
    "benin_data['Class'] = 'Benin'\n",
    "malware_data['Class'] = 'Malware'\n",
    "phishing_data['Class'] = 'Phishing'\n",
    "spam_data['Class'] = 'Spam'\n",
    "\n",
    "\n",
    "# Concaténation de tous les ensembles de données\n",
    "all_data = pd.concat([benin_data, malware_data, phishing_data, spam_data], ignore_index=True)\n"
   ]
  },
  {
   "cell_type": "code",
   "execution_count": 4,
   "metadata": {},
   "outputs": [],
   "source": [
    "# Spécifier la colonne cible je doit le faire avant l'encodage\n",
    "y = all_data['Class']"
   ]
  },
  {
   "cell_type": "code",
   "execution_count": 5,
   "metadata": {},
   "outputs": [
    {
     "name": "stdout",
     "output_type": "stream",
     "text": [
      "Missing value : {}        subdomain  Alexa_Rank  Page_Rank\n",
      "0            0.0         1.0        NaN\n",
      "1            0.0         1.0        NaN\n",
      "2            1.0         1.0        NaN\n",
      "3            1.0         1.0        NaN\n",
      "4            0.0         7.0        NaN\n",
      "...          ...         ...        ...\n",
      "50154        0.0        -1.0        NaN\n",
      "50155        0.0        -1.0        NaN\n",
      "50156        0.0        -1.0        NaN\n",
      "50157        0.0        -1.0        NaN\n",
      "50158        0.0        -1.0        NaN\n",
      "\n",
      "[50159 rows x 3 columns]\n",
      "Missing value : {}        subdomain  Alexa_Rank  Page_Rank\n",
      "0            0.0         1.0       -1.0\n",
      "1            0.0         1.0       -1.0\n",
      "2            1.0         1.0       -1.0\n",
      "3            1.0         1.0       -1.0\n",
      "4            0.0         7.0       -1.0\n",
      "...          ...         ...        ...\n",
      "50154        0.0        -1.0       -1.0\n",
      "50155        0.0        -1.0       -1.0\n",
      "50156        0.0        -1.0       -1.0\n",
      "50157        0.0        -1.0       -1.0\n",
      "50158        0.0        -1.0       -1.0\n",
      "\n",
      "[50159 rows x 3 columns]\n"
     ]
    }
   ],
   "source": [
    "from sklearn.impute import SimpleImputer\n",
    "\n",
    "# Concaténation de tous les ensembles de données\n",
    "all_data = pd.concat([benin_data, malware_data, phishing_data, spam_data], ignore_index=True)\n",
    "\n",
    "# Convertir les variables catégorielles en variables numériques\n",
    "all_data_encoded = pd.get_dummies(all_data, columns=['Class'], drop_first=True)\n",
    "\n",
    "# Exclure les colonnes non numériques\n",
    "X = all_data_encoded.select_dtypes(include='number')\n",
    "\n",
    "# Vérifier les colonnes avec des valeurs manquantes\n",
    "missing_columns = X.columns[X.isnull().any()]\n",
    "\n",
    "print(\"Missing value : {}\", X[missing_columns])\n",
    "\n",
    "# Imputation des valeurs manquantes\n",
    "if not missing_columns.empty:\n",
    "    imputer = SimpleImputer(strategy='mean')  # Vous pouvez également utiliser 'median' ou 'most_frequent'\n",
    "    X[missing_columns] = imputer.fit_transform(X[missing_columns])\n",
    "\n",
    "\n",
    "\n",
    "#apres remplissage avec la valuer moyenne    \n",
    "print(\"Missing value : {}\", X[missing_columns])\n",
    "\n"
   ]
  },
  {
   "cell_type": "code",
   "execution_count": 6,
   "metadata": {},
   "outputs": [
    {
     "name": "stdout",
     "output_type": "stream",
     "text": [
      "Nombre total de caractéristiques numeriques (car les autres ont été ignorer): 13\n"
     ]
    }
   ],
   "source": [
    "num_features = X.shape[1]\n",
    "print(\"Nombre total de caractéristiques numeriques (car les autres ont été ignorer):\", num_features)\n"
   ]
  },
  {
   "cell_type": "code",
   "execution_count": 30,
   "metadata": {},
   "outputs": [],
   "source": [
    "#X = all_data.drop('Class',axis=1)\n",
    "#y = all_data['Class']\n"
   ]
  },
  {
   "cell_type": "code",
   "execution_count": 7,
   "metadata": {},
   "outputs": [],
   "source": [
    "from sklearn.ensemble import ExtraTreesClassifier\n",
    "\n",
    "def feature_importance(X_imputed,Y,num_features):\n",
    "    model = ExtraTreesClassifier()\n",
    "    model.fit(X,Y)\n",
    "\n",
    "    feature_importances = pd.Series(model.feature_importances_ ,index=X_imputed.columns )\n",
    "    return feature_importances.nlargest(num_features).axes[0].values\n"
   ]
  },
  {
   "cell_type": "code",
   "execution_count": 8,
   "metadata": {},
   "outputs": [
    {
     "name": "stdout",
     "output_type": "stream",
     "text": [
      "Features importants:\n",
      "['Alexa_Rank' 'entropy' 'len' 'numeric_percentage' 'subdomain'\n",
      " 'puny_coded' 'dec_32' 'oc_32' 'dec_8' 'oc_8' 'hex_8' 'hex_32' 'Page_Rank']\n"
     ]
    }
   ],
   "source": [
    "# Appel de la fonction et impression des features importants\n",
    "\n",
    "#donc dans notre fonction il faut passer un nombre de caracteristiques inferieur ou egale a 13 avec la Methode ExtrareesClassifier sa ne derange pas mem si tu donne une valeur superieur comparer au Univariate (SelectKBest,chi2)\n",
    "\n",
    "important_features = feature_importance(X, y, num_features=15)\n",
    "print(\"Features importants:\")\n",
    "print(important_features)"
   ]
  }
 ],
 "metadata": {
  "kernelspec": {
   "display_name": "Python 3",
   "language": "python",
   "name": "python3"
  },
  "language_info": {
   "codemirror_mode": {
    "name": "ipython",
    "version": 3
   },
   "file_extension": ".py",
   "mimetype": "text/x-python",
   "name": "python",
   "nbconvert_exporter": "python",
   "pygments_lexer": "ipython3",
   "version": "3.10.0"
  }
 },
 "nbformat": 4,
 "nbformat_minor": 2
}
