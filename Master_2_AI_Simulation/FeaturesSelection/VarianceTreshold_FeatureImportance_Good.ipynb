{
 "cells": [
  {
   "cell_type": "code",
   "execution_count": 70,
   "metadata": {},
   "outputs": [],
   "source": [
    "import pandas as pd\n",
    "import numpy as np\n",
    "from sklearn.metrics import roc_auc_score, accuracy_score, precision_score, recall_score, classification_report\n",
    "from tensorflow.keras.models import Model\n",
    "from tensorflow.keras.optimizers import Adam\n",
    "from tensorflow.keras.layers import Input, Embedding, GlobalAveragePooling1D, Dropout, Dense\n",
    "from tensorflow.keras.preprocessing import sequence\n",
    "\n",
    "from TransformerComplet import *\n",
    "\n",
    "from tensorflow.keras.layers import Dense, Dropout, Embedding, Input, Concatenate, MultiHeadAttention\n"
   ]
  },
  {
   "cell_type": "code",
   "execution_count": 71,
   "metadata": {},
   "outputs": [],
   "source": [
    "\n",
    "\n",
    "# Chargement du jeu de données\n",
    "data = pd.read_csv(\"../data/BenignAndMaliciousDataset.csv\")"
   ]
  },
  {
   "cell_type": "code",
   "execution_count": 73,
   "metadata": {},
   "outputs": [
    {
     "name": "stdout",
     "output_type": "stream",
     "text": [
      "Domain                   int64\n",
      "DNSRecordType           object\n",
      "MXDnsResponse             bool\n",
      "TXTDnsResponse            bool\n",
      "HasSPFInfo                bool\n",
      "HasDkimInfo               bool\n",
      "HasDmarcInfo              bool\n",
      "Ip                       int64\n",
      "DomainInAlexaDB           bool\n",
      "CommonPorts               bool\n",
      "CountryCode             object\n",
      "RegisteredCountry       object\n",
      "CreationDate             int64\n",
      "LastUpdateDate           int64\n",
      "ASN                      int64\n",
      "HttpResponseCode         int64\n",
      "RegisteredOrg           object\n",
      "SubdomainNumber          int64\n",
      "Entropy                  int64\n",
      "EntropyOfSubDomains      int64\n",
      "StrangeCharacters        int64\n",
      "TLD                     object\n",
      "IpReputation              bool\n",
      "DomainReputation          bool\n",
      "ConsoantRatio          float64\n",
      "NumericRatio           float64\n",
      "SpecialCharRatio       float64\n",
      "VowelRatio             float64\n",
      "ConsoantSequence         int64\n",
      "VowelSequence            int64\n",
      "NumericSequence          int64\n",
      "SpecialCharSequence      int64\n",
      "DomainLength             int64\n",
      "Class                    int64\n",
      "dtype: object\n"
     ]
    }
   ],
   "source": [
    "# Convertir toutes les colonnes catégorielles en chaînes de caractères\n",
    "\n",
    "#all_data = data.astype(str)\n",
    "\n",
    "\n",
    "all_data =data\n",
    "print(all_data.dtypes)\n"
   ]
  },
  {
   "cell_type": "code",
   "execution_count": 74,
   "metadata": {},
   "outputs": [
    {
     "name": "stdout",
     "output_type": "stream",
     "text": [
      "[1 0]\n"
     ]
    }
   ],
   "source": [
    "print(all_data['Class'].unique())\n"
   ]
  },
  {
   "cell_type": "code",
   "execution_count": 41,
   "metadata": {},
   "outputs": [
    {
     "name": "stdout",
     "output_type": "stream",
     "text": [
      "<class 'pandas.core.frame.DataFrame'>\n",
      "RangeIndex: 90000 entries, 0 to 89999\n",
      "Data columns (total 34 columns):\n",
      " #   Column               Non-Null Count  Dtype \n",
      "---  ------               --------------  ----- \n",
      " 0   Domain               90000 non-null  object\n",
      " 1   DNSRecordType        90000 non-null  object\n",
      " 2   MXDnsResponse        90000 non-null  object\n",
      " 3   TXTDnsResponse       90000 non-null  object\n",
      " 4   HasSPFInfo           90000 non-null  object\n",
      " 5   HasDkimInfo          90000 non-null  object\n",
      " 6   HasDmarcInfo         90000 non-null  object\n",
      " 7   Ip                   90000 non-null  object\n",
      " 8   DomainInAlexaDB      90000 non-null  object\n",
      " 9   CommonPorts          90000 non-null  object\n",
      " 10  CountryCode          90000 non-null  object\n",
      " 11  RegisteredCountry    90000 non-null  object\n",
      " 12  CreationDate         90000 non-null  object\n",
      " 13  LastUpdateDate       90000 non-null  object\n",
      " 14  ASN                  90000 non-null  object\n",
      " 15  HttpResponseCode     90000 non-null  object\n",
      " 16  RegisteredOrg        90000 non-null  object\n",
      " 17  SubdomainNumber      90000 non-null  object\n",
      " 18  Entropy              90000 non-null  object\n",
      " 19  EntropyOfSubDomains  90000 non-null  object\n",
      " 20  StrangeCharacters    90000 non-null  object\n",
      " 21  TLD                  90000 non-null  object\n",
      " 22  IpReputation         90000 non-null  object\n",
      " 23  DomainReputation     90000 non-null  object\n",
      " 24  ConsoantRatio        90000 non-null  object\n",
      " 25  NumericRatio         90000 non-null  object\n",
      " 26  SpecialCharRatio     90000 non-null  object\n",
      " 27  VowelRatio           90000 non-null  object\n",
      " 28  ConsoantSequence     90000 non-null  object\n",
      " 29  VowelSequence        90000 non-null  object\n",
      " 30  NumericSequence      90000 non-null  object\n",
      " 31  SpecialCharSequence  90000 non-null  object\n",
      " 32  DomainLength         90000 non-null  object\n",
      " 33  Class                90000 non-null  object\n",
      "dtypes: object(34)\n",
      "memory usage: 23.3+ MB\n",
      "None\n"
     ]
    }
   ],
   "source": [
    "print(all_data.info())\n",
    "\n",
    "# print(all_data['Class'])"
   ]
  },
  {
   "cell_type": "code",
   "execution_count": 98,
   "metadata": {},
   "outputs": [
    {
     "data": {
      "text/plain": [
       "RegisteredCountry      77774\n",
       "RegisteredOrg          35391\n",
       "CountryCode            29052\n",
       "TLD                      170\n",
       "Domain                     0\n",
       "EntropyOfSubDomains        0\n",
       "IpReputation               0\n",
       "DomainReputation           0\n",
       "ConsoantRatio              0\n",
       "NumericRatio               0\n",
       "SpecialCharRatio           0\n",
       "VowelRatio                 0\n",
       "ConsoantSequence           0\n",
       "VowelSequence              0\n",
       "NumericSequence            0\n",
       "SpecialCharSequence        0\n",
       "DomainLength               0\n",
       "StrangeCharacters          0\n",
       "SubdomainNumber            0\n",
       "Entropy                    0\n",
       "DNSRecordType              0\n",
       "HttpResponseCode           0\n",
       "ASN                        0\n",
       "LastUpdateDate             0\n",
       "CreationDate               0\n",
       "CommonPorts                0\n",
       "DomainInAlexaDB            0\n",
       "Ip                         0\n",
       "HasDmarcInfo               0\n",
       "HasDkimInfo                0\n",
       "HasSPFInfo                 0\n",
       "TXTDnsResponse             0\n",
       "MXDnsResponse              0\n",
       "Class                      0\n",
       "dtype: int64"
      ]
     },
     "execution_count": 98,
     "metadata": {},
     "output_type": "execute_result"
    }
   ],
   "source": [
    "data.isnull().sum().sort_values(ascending=False)\n",
    "\n",
    "#si c'est 0 partout c'est que c'est ok si c'est les NAN c'est qu'il y'a les valeurs manquantes et il fait va falloir dont leurs travailler pour completer ou suspendre cela\n",
    "\n"
   ]
  },
  {
   "cell_type": "code",
   "execution_count": 42,
   "metadata": {},
   "outputs": [],
   "source": [
    "# Sélectionner la colonne 'Class' avant l'encodage\n",
    "y = all_data['Class']"
   ]
  },
  {
   "cell_type": "code",
   "execution_count": 43,
   "metadata": {},
   "outputs": [
    {
     "name": "stdout",
     "output_type": "stream",
     "text": [
      "0        1\n",
      "1        1\n",
      "2        1\n",
      "3        1\n",
      "4        1\n",
      "        ..\n",
      "89995    0\n",
      "89996    0\n",
      "89997    0\n",
      "89998    0\n",
      "89999    0\n",
      "Name: Class, Length: 90000, dtype: object\n"
     ]
    }
   ],
   "source": [
    "print(y)"
   ]
  },
  {
   "cell_type": "code",
   "execution_count": 44,
   "metadata": {},
   "outputs": [
    {
     "name": "stdout",
     "output_type": "stream",
     "text": [
      "<class 'pandas.core.frame.DataFrame'>\n",
      "RangeIndex: 90000 entries, 0 to 89999\n",
      "Data columns (total 34 columns):\n",
      " #   Column               Non-Null Count  Dtype \n",
      "---  ------               --------------  ----- \n",
      " 0   Domain               90000 non-null  object\n",
      " 1   DNSRecordType        90000 non-null  object\n",
      " 2   MXDnsResponse        90000 non-null  object\n",
      " 3   TXTDnsResponse       90000 non-null  object\n",
      " 4   HasSPFInfo           90000 non-null  object\n",
      " 5   HasDkimInfo          90000 non-null  object\n",
      " 6   HasDmarcInfo         90000 non-null  object\n",
      " 7   Ip                   90000 non-null  object\n",
      " 8   DomainInAlexaDB      90000 non-null  object\n",
      " 9   CommonPorts          90000 non-null  object\n",
      " 10  CountryCode          90000 non-null  object\n",
      " 11  RegisteredCountry    90000 non-null  object\n",
      " 12  CreationDate         90000 non-null  object\n",
      " 13  LastUpdateDate       90000 non-null  object\n",
      " 14  ASN                  90000 non-null  object\n",
      " 15  HttpResponseCode     90000 non-null  object\n",
      " 16  RegisteredOrg        90000 non-null  object\n",
      " 17  SubdomainNumber      90000 non-null  object\n",
      " 18  Entropy              90000 non-null  object\n",
      " 19  EntropyOfSubDomains  90000 non-null  object\n",
      " 20  StrangeCharacters    90000 non-null  object\n",
      " 21  TLD                  90000 non-null  object\n",
      " 22  IpReputation         90000 non-null  object\n",
      " 23  DomainReputation     90000 non-null  object\n",
      " 24  ConsoantRatio        90000 non-null  object\n",
      " 25  NumericRatio         90000 non-null  object\n",
      " 26  SpecialCharRatio     90000 non-null  object\n",
      " 27  VowelRatio           90000 non-null  object\n",
      " 28  ConsoantSequence     90000 non-null  object\n",
      " 29  VowelSequence        90000 non-null  object\n",
      " 30  NumericSequence      90000 non-null  object\n",
      " 31  SpecialCharSequence  90000 non-null  object\n",
      " 32  DomainLength         90000 non-null  object\n",
      " 33  Class                90000 non-null  object\n",
      "dtypes: object(34)\n",
      "memory usage: 23.3+ MB\n",
      "None\n"
     ]
    }
   ],
   "source": [
    "print(all_data.info())"
   ]
  },
  {
   "cell_type": "code",
   "execution_count": 45,
   "metadata": {},
   "outputs": [
    {
     "name": "stdout",
     "output_type": "stream",
     "text": [
      "(90000, 34)\n"
     ]
    }
   ],
   "source": [
    "print(all_data.shape)\n"
   ]
  },
  {
   "cell_type": "code",
   "execution_count": null,
   "metadata": {},
   "outputs": [],
   "source": [
    "################################ Ne pas executer c'esr juste un exemple ##############\n",
    "\n",
    "\n",
    "############## Tresimportant pour selectionner les attribut numeriques ###### il faut d'abord affihcer les types des donnees ##########\n",
    "\n",
    "# Supposons que X_numerical_part1 et X_numerical_part2 sont deux parties de votre DataFrame avec des colonnes numériques.\n",
    "X_numerical_part1 = all_data.select_dtypes(include=['int64', 'float64'])\n",
    "X_numerical_part2 = all_data.select_dtypes(include=['int64', 'float64'])\n",
    "\n",
    "# Concaténer les parties avec les colonnes numériques\n",
    "X_numerical = pd.concat([X_numerical_part1, X_numerical_part2], axis=1)\n"
   ]
  },
  {
   "cell_type": "code",
   "execution_count": 81,
   "metadata": {},
   "outputs": [],
   "source": [
    "# Séparer les caractéristiques numériques et catégorielles\n",
    "\n",
    "#X_numerical = all_data.select_dtypes(include='number') ########### jai du mal a comprendre comment il fonctionne lui\n",
    "\n",
    "X_numerical = all_data.select_dtypes(include=['int64', 'float64'])\n",
    "\n",
    "X_categorical = all_data.select_dtypes(exclude='number')"
   ]
  },
  {
   "cell_type": "code",
   "execution_count": 80,
   "metadata": {},
   "outputs": [
    {
     "name": "stdout",
     "output_type": "stream",
     "text": [
      "(90000, 34)\n",
      "(90000, 20)\n",
      "(90000, 14)\n"
     ]
    }
   ],
   "source": [
    "print(all_data.shape)\n",
    "print(X_numerical.shape)\n",
    "print(X_categorical.shape)"
   ]
  },
  {
   "cell_type": "code",
   "execution_count": 82,
   "metadata": {},
   "outputs": [],
   "source": [
    "from sklearn.preprocessing import LabelEncoder\n",
    "\n",
    "# Encodage des variables catégorielles\n",
    "categorical_features = X_categorical.columns\n",
    "label_encoder = LabelEncoder()\n",
    "X_categorical_encoded = X_categorical.apply(label_encoder.fit_transform)\n",
    "\n",
    "# Utiliser l'encodage ordinal pour transformer les données catégorielles en valeurs numériques\n",
    "\n",
    "#ordinal_encoder = OrdinalEncoder()\n",
    "#X_categorical_encoded = pd.DataFrame(ordinal_encoder.fit_transform(X_categorical), columns=X_categorical.columns)\n"
   ]
  },
  {
   "cell_type": "code",
   "execution_count": 83,
   "metadata": {},
   "outputs": [
    {
     "name": "stdout",
     "output_type": "stream",
     "text": [
      "       Domain     Ip  CreationDate  LastUpdateDate    ASN  HttpResponseCode   \n",
      "0        4455  16984             0               0     -1                 0  \\\n",
      "1        4456  16984             0               0     -1                 0   \n",
      "2        4457  16984             0               0     -1                 0   \n",
      "3        4458  16984             0               0     -1                 0   \n",
      "4        4459  16984             0               0     -1                 0   \n",
      "...       ...    ...           ...             ...    ...               ...   \n",
      "89995   75661  16984             0               0     -1                 0   \n",
      "89996   54843  16984             0               0     -1                 0   \n",
      "89997   71235  16984             0               0     -1                 0   \n",
      "89998   82994   7723             4               4  46606                 4   \n",
      "89999   64601  16984             0               0     -1                 0   \n",
      "\n",
      "       SubdomainNumber  Entropy  EntropyOfSubDomains  StrangeCharacters   \n",
      "0                    0        4                    0                 11  \\\n",
      "1                    0        4                    0                 11   \n",
      "2                    0        4                    0                 24   \n",
      "3                    0        4                    0                 15   \n",
      "4                    0        4                    0                 23   \n",
      "...                ...      ...                  ...                ...   \n",
      "89995                0        3                    0                  3   \n",
      "89996                0        3                    0                  0   \n",
      "89997                0        3                    0                  1   \n",
      "89998                0        3                    0                  0   \n",
      "89999                0        3                    0                  1   \n",
      "\n",
      "       ConsoantRatio  NumericRatio  SpecialCharRatio  VowelRatio   \n",
      "0                0.6           0.1               0.0         0.2  \\\n",
      "1                0.7           0.1               0.0         0.2   \n",
      "2                0.6           0.2               0.0         0.2   \n",
      "3                0.6           0.1               0.0         0.1   \n",
      "4                0.6           0.2               0.0         0.1   \n",
      "...              ...           ...               ...         ...   \n",
      "89995            0.5           0.2               0.0         0.2   \n",
      "89996            0.6           0.0               0.0         0.4   \n",
      "89997            0.5           0.1               0.0         0.4   \n",
      "89998            0.5           0.0               0.0         0.4   \n",
      "89999            0.6           0.0               0.0         0.3   \n",
      "\n",
      "       ConsoantSequence  VowelSequence  NumericSequence  SpecialCharSequence   \n",
      "0                    10              4                1                    0  \\\n",
      "1                    12              2                2                    1   \n",
      "2                    16              2                3                    0   \n",
      "3                     9              1                2                    0   \n",
      "4                    10              2                2                    0   \n",
      "...                 ...            ...              ...                  ...   \n",
      "89995                 4              1                2                    0   \n",
      "89996                 3              2                0                    0   \n",
      "89997                 3              2                2                    0   \n",
      "89998                 4              2                0                    0   \n",
      "89999                 3              2                0                    1   \n",
      "\n",
      "       DomainLength  Class  \n",
      "0               134      1  \n",
      "1               123      1  \n",
      "2               150      1  \n",
      "3               122      1  \n",
      "4               151      1  \n",
      "...             ...    ...  \n",
      "89995            27      0  \n",
      "89996            26      0  \n",
      "89997            31      0  \n",
      "89998            11      0  \n",
      "89999            31      0  \n",
      "\n",
      "[90000 rows x 20 columns]\n"
     ]
    }
   ],
   "source": [
    "print(X_numerical)"
   ]
  },
  {
   "cell_type": "code",
   "execution_count": 84,
   "metadata": {},
   "outputs": [
    {
     "data": {
      "text/plain": [
       "DNSRecordType        3.494257e-01\n",
       "MXDnsResponse        1.877407e-01\n",
       "TXTDnsResponse       2.499788e-01\n",
       "HasSPFInfo           2.499279e-01\n",
       "HasDkimInfo          2.443874e-04\n",
       "HasDmarcInfo         1.950421e-02\n",
       "DomainInAlexaDB      2.305388e-02\n",
       "CommonPorts          1.143318e-01\n",
       "CountryCode          5.573118e+02\n",
       "RegisteredCountry    6.568051e+02\n",
       "RegisteredOrg        1.710584e+06\n",
       "TLD                  3.224950e+04\n",
       "IpReputation         4.310690e-02\n",
       "DomainReputation     1.198573e-03\n",
       "dtype: float64"
      ]
     },
     "execution_count": 84,
     "metadata": {},
     "output_type": "execute_result"
    }
   ],
   "source": [
    "############## j'affiche la variance des differents features categoricielles #######\n",
    "\n",
    "X_categorical_encoded.var()\n"
   ]
  },
  {
   "cell_type": "code",
   "execution_count": 85,
   "metadata": {},
   "outputs": [
    {
     "name": "stdout",
     "output_type": "stream",
     "text": [
      "(90000, 14)\n"
     ]
    }
   ],
   "source": [
    "print(X_categorical_encoded.shape)\n"
   ]
  },
  {
   "cell_type": "code",
   "execution_count": 86,
   "metadata": {},
   "outputs": [],
   "source": [
    "from sklearn.feature_selection import VarianceThreshold\n",
    "from sklearn.preprocessing import OrdinalEncoder\n",
    "\n",
    "# Mettez à jour la sélection des colonnes originales\n",
    "\n",
    "# Réduire la dimension  [[on va supprimer les features categorique qui ont une variance inferieur au seuil]] avec VarianceThreshold varie le Threshold # Le selector va eleminer certain attribut categoricel  sonc la variance est inferieur a celle fixe\n",
    "selector = VarianceThreshold(threshold=0.2)\n",
    "X_categorical_reduced = selector.fit_transform(X_categorical_encoded)\n",
    "\n",
    "# Mettez à jour la sélection des colonnes originales\n",
    "original_categorical_columns = X_categorical.columns[selector.get_support()]\n"
   ]
  },
  {
   "cell_type": "code",
   "execution_count": 87,
   "metadata": {},
   "outputs": [
    {
     "name": "stdout",
     "output_type": "stream",
     "text": [
      "Index(['DNSRecordType', 'TXTDnsResponse', 'HasSPFInfo', 'CountryCode',\n",
      "       'RegisteredCountry', 'RegisteredOrg', 'TLD'],\n",
      "      dtype='object')\n",
      "(7,)\n"
     ]
    }
   ],
   "source": [
    "print( original_categorical_columns)\n",
    "print( original_categorical_columns.shape) ### variable restante apres suppression"
   ]
  },
  {
   "cell_type": "code",
   "execution_count": 88,
   "metadata": {},
   "outputs": [],
   "source": [
    "# Créer un DataFrame avec les colonnes originales\n",
    "X_categorical_reduced_df = pd.DataFrame(X_categorical_reduced, columns=original_categorical_columns)\n"
   ]
  },
  {
   "cell_type": "code",
   "execution_count": 89,
   "metadata": {},
   "outputs": [
    {
     "name": "stdout",
     "output_type": "stream",
     "text": [
      "Pas de valeurs manquantes dans les caractéristiques numériques. Aucune imputation nécessaire.\n"
     ]
    }
   ],
   "source": [
    "from sklearn.impute import SimpleImputer\n",
    "from sklearn.preprocessing import MinMaxScaler\n",
    "\n",
    "# 2. Vérification des colonnes vides\n",
    "if X_numerical.isnull().any().any():\n",
    "    # Imputer les valeurs manquantes pour les caractéristiques numériques\n",
    "    numerical_imputer = SimpleImputer(strategy='mean')\n",
    "    X_numerical_imputed = pd.DataFrame(numerical_imputer.fit_transform(X_numerical), columns=X_numerical.columns)\n",
    "\n",
    "    #prepocessing des features numeriques soit  avec le  LabelEncoder soit le MinMaxScaler()\n",
    "\n",
    "    # Création d'un scaler\n",
    "    scaler = MinMaxScaler()\n",
    "\n",
    "    # Ajustement du scaler aux données\n",
    "    scaler.fit(X_numerical_imputed)\n",
    "\n",
    "    # Transformation des fonctionnalités numériques\n",
    "    scaled_numeric_features = scaler.transform(X_numerical_imputed)\n",
    "\n",
    "\n",
    "    print(scaled_numeric_features)\n",
    "\n",
    "    # Apres transformation Création d' un DataFrame à partir des valeurs transformées\n",
    "\n",
    "    scaled_df = pd.DataFrame(scaled_numeric_features, columns=X_numerical_imputed.columns)\n",
    "\n",
    "    # Afficher le DataFrame avec les valeurs transformées\n",
    "    print(\"Après transformation\")\n",
    "    print(scaled_df)\n",
    "\n",
    "    total_size = scaled_df.shape\n",
    "    print(\"Taille totale des caractéristiques numériques après transformations :\", total_size)\n",
    "else:\n",
    "    print(\"Pas de valeurs manquantes dans les caractéristiques numériques. Aucune imputation nécessaire.\")\n"
   ]
  },
  {
   "cell_type": "code",
   "execution_count": 90,
   "metadata": {},
   "outputs": [],
   "source": [
    "#Concaténer les caractéristiques numériques et catégorielles\n",
    "X_combined = pd.concat([X_numerical, X_categorical_reduced_df], axis=1)"
   ]
  },
  {
   "cell_type": "code",
   "execution_count": 91,
   "metadata": {},
   "outputs": [
    {
     "name": "stdout",
     "output_type": "stream",
     "text": [
      "Nombre total de caractéristiques numeriques et categoriciel: 27\n"
     ]
    }
   ],
   "source": [
    "num_features = X_combined.shape[1]\n",
    "print(\"Nombre total de caractéristiques numeriques et categoriciel:\", num_features)\n"
   ]
  },
  {
   "cell_type": "code",
   "execution_count": 92,
   "metadata": {},
   "outputs": [
    {
     "name": "stdout",
     "output_type": "stream",
     "text": [
      "Index(['Domain', 'Ip', 'CreationDate', 'LastUpdateDate', 'ASN',\n",
      "       'HttpResponseCode', 'SubdomainNumber', 'Entropy', 'EntropyOfSubDomains',\n",
      "       'StrangeCharacters', 'ConsoantRatio', 'NumericRatio',\n",
      "       'SpecialCharRatio', 'VowelRatio', 'ConsoantSequence', 'VowelSequence',\n",
      "       'NumericSequence', 'SpecialCharSequence', 'DomainLength', 'Class',\n",
      "       'DNSRecordType', 'TXTDnsResponse', 'HasSPFInfo', 'CountryCode',\n",
      "       'RegisteredCountry', 'RegisteredOrg', 'TLD'],\n",
      "      dtype='object')\n"
     ]
    }
   ],
   "source": [
    "# Imprimer les noms des colonnes pour déboguer\n",
    "print(X_combined.columns)\n"
   ]
  },
  {
   "cell_type": "code",
   "execution_count": 93,
   "metadata": {},
   "outputs": [],
   "source": [
    "from sklearn.ensemble import ExtraTreesClassifier\n",
    "\n",
    "def feature_importance(X_combined,Y,num_features):\n",
    "    model = ExtraTreesClassifier()\n",
    "    model.fit(X_combined,Y)\n",
    "\n",
    "    feature_importances = pd.Series(model.feature_importances_ ,index=X_combined.columns )\n",
    "    return feature_importances.nlargest(num_features).axes[0].values\n"
   ]
  },
  {
   "cell_type": "code",
   "execution_count": 94,
   "metadata": {},
   "outputs": [
    {
     "name": "stdout",
     "output_type": "stream",
     "text": [
      "Index(['Domain', 'Ip', 'CreationDate', 'LastUpdateDate', 'ASN',\n",
      "       'HttpResponseCode', 'SubdomainNumber', 'Entropy', 'EntropyOfSubDomains',\n",
      "       'StrangeCharacters', 'ConsoantRatio', 'NumericRatio',\n",
      "       'SpecialCharRatio', 'VowelRatio', 'ConsoantSequence', 'VowelSequence',\n",
      "       'NumericSequence', 'SpecialCharSequence', 'DomainLength', 'Class',\n",
      "       'DNSRecordType', 'TXTDnsResponse', 'HasSPFInfo', 'CountryCode',\n",
      "       'RegisteredCountry', 'RegisteredOrg', 'TLD'],\n",
      "      dtype='object')\n",
      "Index(['Domain', 'Ip', 'CreationDate', 'LastUpdateDate', 'ASN',\n",
      "       'HttpResponseCode', 'SubdomainNumber', 'Entropy', 'EntropyOfSubDomains',\n",
      "       'StrangeCharacters', 'ConsoantRatio', 'NumericRatio',\n",
      "       'SpecialCharRatio', 'VowelRatio', 'ConsoantSequence', 'VowelSequence',\n",
      "       'NumericSequence', 'SpecialCharSequence', 'DomainLength',\n",
      "       'DNSRecordType', 'TXTDnsResponse', 'HasSPFInfo', 'CountryCode',\n",
      "       'RegisteredCountry', 'RegisteredOrg', 'TLD'],\n",
      "      dtype='object')\n"
     ]
    }
   ],
   "source": [
    "#La Class ne doit pas faire partir des features important car c'est la cible\n",
    "\n",
    "# Imprimer les noms des colonnes pour déboguer\n",
    "print(X_combined.columns)\n",
    "\n",
    "# Supprimer les colonnes de classe s'il y en a\n",
    "# class_columns_to_drop = ['Class_1', 'Class_2', 'Class_3']\n",
    "\n",
    "class_columns_to_drop = ['Class']\n",
    "\n",
    "existing_class_columns = set(class_columns_to_drop).intersection(X_combined.columns)\n",
    "\n",
    "if existing_class_columns:\n",
    "    X_combined = X_combined.drop(existing_class_columns, axis=1)\n",
    "\n",
    "# Imprimer à nouveau les noms des colonnes pour vérifier\n",
    "print(X_combined.columns)\n"
   ]
  },
  {
   "cell_type": "code",
   "execution_count": 95,
   "metadata": {},
   "outputs": [
    {
     "name": "stdout",
     "output_type": "stream",
     "text": [
      "(90000, 26)\n"
     ]
    }
   ],
   "source": [
    "print(X_combined.shape)\n"
   ]
  },
  {
   "cell_type": "code",
   "execution_count": 96,
   "metadata": {},
   "outputs": [
    {
     "name": "stdout",
     "output_type": "stream",
     "text": [
      "Features importants:\n",
      "['DNSRecordType' 'Domain' 'NumericRatio' 'HasSPFInfo' 'ConsoantRatio'\n",
      " 'TXTDnsResponse' 'DomainLength' 'VowelRatio' 'CreationDate'\n",
      " 'StrangeCharacters' 'NumericSequence' 'LastUpdateDate' 'RegisteredOrg'\n",
      " 'Ip' 'HttpResponseCode' 'CountryCode' 'TLD' 'Entropy' 'ConsoantSequence'\n",
      " 'VowelSequence' 'RegisteredCountry' 'ASN']\n"
     ]
    }
   ],
   "source": [
    "# Appel de la fonction et impression des features importants\n",
    "\n",
    "#donc dans notre fonction il faut passer un nombre de caracteristiques inferieur ou egale a 13 avec la Methode ExtrareesClassifier sa ne derange pas mem si tu donne une valeur superieur comparer au Univariate (SelectKBest,chi2)\n",
    "\n",
    "important_features = feature_importance(X_combined, y, num_features=22)\n",
    "print(\"Features importants:\")\n",
    "print(important_features)"
   ]
  },
  {
   "cell_type": "code",
   "execution_count": 97,
   "metadata": {},
   "outputs": [
    {
     "name": "stdout",
     "output_type": "stream",
     "text": [
      "(22,)\n"
     ]
    }
   ],
   "source": [
    "print(important_features.shape)\n"
   ]
  }
 ],
 "metadata": {
  "kernelspec": {
   "display_name": "Python 3",
   "language": "python",
   "name": "python3"
  },
  "language_info": {
   "codemirror_mode": {
    "name": "ipython",
    "version": 3
   },
   "file_extension": ".py",
   "mimetype": "text/x-python",
   "name": "python",
   "nbconvert_exporter": "python",
   "pygments_lexer": "ipython3",
   "version": "3.10.0"
  }
 },
 "nbformat": 4,
 "nbformat_minor": 2
}
